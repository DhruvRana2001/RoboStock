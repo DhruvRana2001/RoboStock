{
 "cells": [
  {
   "cell_type": "code",
   "execution_count": 1,
   "metadata": {},
   "outputs": [],
   "source": [
    "import numpy as np\n",
    "import pandas_datareader.data as web\n",
    "import pandas as pd\n",
    "import pandas_ta as ta\n",
    "import pandas_market_calendars as mcal\n",
    "from dotenv import load_dotenv\n",
    "from datetime import datetime, timedelta\n",
    "import matplotlib\n",
    "import matplotlib.pyplot as plt\n",
    "import yfinance as yf\n",
    "import os\n",
    "\n",
    "from sklearn import preprocessing"
   ]
  },
  {
   "cell_type": "code",
   "execution_count": 2,
   "metadata": {},
   "outputs": [],
   "source": [
    "features = pd.read_csv('RoboStockFeatures.csv')\n",
    "prices = pd.read_csv('RoboStockPrices.csv')"
   ]
  },
  {
   "cell_type": "code",
   "execution_count": 3,
   "metadata": {},
   "outputs": [],
   "source": [
    "while features.isnull().values.any(): # check for missing data\n",
    "    features.fillna(method='ffill',inplace=True)\n",
    "\n",
    "while prices.isnull().values.any():\n",
    "    prices.fillna(method='ffill',inplace=True)"
   ]
  },
  {
   "cell_type": "code",
   "execution_count": 4,
   "metadata": {},
   "outputs": [
    {
     "data": {
      "text/html": [
       "<div>\n",
       "<style scoped>\n",
       "    .dataframe tbody tr th:only-of-type {\n",
       "        vertical-align: middle;\n",
       "    }\n",
       "\n",
       "    .dataframe tbody tr th {\n",
       "        vertical-align: top;\n",
       "    }\n",
       "\n",
       "    .dataframe thead th {\n",
       "        text-align: right;\n",
       "    }\n",
       "</style>\n",
       "<table border=\"1\" class=\"dataframe\">\n",
       "  <thead>\n",
       "    <tr style=\"text-align: right;\">\n",
       "      <th></th>\n",
       "      <th>date</th>\n",
       "      <th>symbol</th>\n",
       "      <th>f01</th>\n",
       "      <th>f02</th>\n",
       "      <th>f03</th>\n",
       "      <th>f04</th>\n",
       "      <th>f05</th>\n",
       "      <th>f06</th>\n",
       "      <th>f07</th>\n",
       "      <th>f08</th>\n",
       "      <th>...</th>\n",
       "      <th>VIDYA_14</th>\n",
       "      <th>VTXP_14</th>\n",
       "      <th>VTXM_14</th>\n",
       "      <th>VWAP_D</th>\n",
       "      <th>VWMA_10</th>\n",
       "      <th>WCP</th>\n",
       "      <th>WILLR_14</th>\n",
       "      <th>WMA_10</th>\n",
       "      <th>ZL_EMA_10</th>\n",
       "      <th>ZS_30</th>\n",
       "    </tr>\n",
       "  </thead>\n",
       "  <tbody>\n",
       "  </tbody>\n",
       "</table>\n",
       "<p>0 rows × 310 columns</p>\n",
       "</div>"
      ],
      "text/plain": [
       "Empty DataFrame\n",
       "Columns: [date, symbol, f01, f02, f03, f04, f05, f06, f07, f08, f09, f10, f11, f12, f13, f14, f15, f16, f17, f18, f20, f21, month_1, month_2, month_3, month_4, month_5, month_6, month_7, month_8, month_9, month_10, month_11, month_12, ABER_ZG_5_15, ABER_SG_5_15, ABER_XG_5_15, ABER_ATR_5_15, ACCBL_20, ACCBM_20, ACCBU_20, AD, ADOSC_3_10, ADX_14, DMP_14, DMN_14, ALMA_10_6.0_0.85, AMATe_LR_8_21_2, AMATe_SR_8_21_2, AO_5_34, OBV, OBV_min_2, OBV_max_2, OBVe_4, OBVe_12, AOBV_LR_2, AOBV_SR_2, APO_12_26, AROOND_14, AROONU_14, AROONOSC_14, ATRr_14, BBL_5_2.0, BBM_5_2.0, BBU_5_2.0, BBB_5_2.0, BBP_5_2.0, BIAS_SMA_26, BOP, AR_26, BR_26, CCI_14_0.015, CDL_2CROWS, CDL_3BLACKCROWS, CDL_3INSIDE, CDL_3LINESTRIKE, CDL_3OUTSIDE, CDL_3STARSINSOUTH, CDL_3WHITESOLDIERS, CDL_ABANDONEDBABY, CDL_ADVANCEBLOCK, CDL_BELTHOLD, CDL_BREAKAWAY, CDL_CLOSINGMARUBOZU, CDL_CONCEALBABYSWALL, CDL_COUNTERATTACK, CDL_DARKCLOUDCOVER, CDL_DOJI_10_0.1, CDL_DOJISTAR, CDL_DRAGONFLYDOJI, CDL_ENGULFING, CDL_EVENINGDOJISTAR, CDL_EVENINGSTAR, CDL_GAPSIDESIDEWHITE, CDL_GRAVESTONEDOJI, CDL_HAMMER, CDL_HANGINGMAN, CDL_HARAMI, CDL_HARAMICROSS, CDL_HIGHWAVE, ...]\n",
       "Index: []\n",
       "\n",
       "[0 rows x 310 columns]"
      ]
     },
     "execution_count": 4,
     "metadata": {},
     "output_type": "execute_result"
    }
   ],
   "source": [
    "features[features.isna().any(axis=1)]"
   ]
  },
  {
   "cell_type": "code",
   "execution_count": 5,
   "metadata": {},
   "outputs": [
    {
     "data": {
      "text/html": [
       "<div>\n",
       "<style scoped>\n",
       "    .dataframe tbody tr th:only-of-type {\n",
       "        vertical-align: middle;\n",
       "    }\n",
       "\n",
       "    .dataframe tbody tr th {\n",
       "        vertical-align: top;\n",
       "    }\n",
       "\n",
       "    .dataframe thead th {\n",
       "        text-align: right;\n",
       "    }\n",
       "</style>\n",
       "<table border=\"1\" class=\"dataframe\">\n",
       "  <thead>\n",
       "    <tr style=\"text-align: right;\">\n",
       "      <th></th>\n",
       "      <th>date</th>\n",
       "      <th>symbol</th>\n",
       "      <th>open</th>\n",
       "      <th>high</th>\n",
       "      <th>low</th>\n",
       "      <th>close</th>\n",
       "      <th>volume</th>\n",
       "    </tr>\n",
       "  </thead>\n",
       "  <tbody>\n",
       "  </tbody>\n",
       "</table>\n",
       "</div>"
      ],
      "text/plain": [
       "Empty DataFrame\n",
       "Columns: [date, symbol, open, high, low, close, volume]\n",
       "Index: []"
      ]
     },
     "execution_count": 5,
     "metadata": {},
     "output_type": "execute_result"
    }
   ],
   "source": [
    "prices[prices.isnull().any(axis=1)]"
   ]
  },
  {
   "cell_type": "code",
   "execution_count": 6,
   "metadata": {},
   "outputs": [],
   "source": [
    "exclude_cols = ['month_'+str(num) for num in list(range(1,1+12))] + ['f20'] + ['date'] + ['symbol']\n",
    "std_scalar = preprocessing.StandardScaler()\n",
    "df = std_scalar.fit_transform(features[features.columns.difference(exclude_cols)])\n",
    "df = pd.DataFrame(df,columns=features.columns.difference(exclude_cols))\n",
    "df[exclude_cols] = features[exclude_cols].copy()"
   ]
  },
  {
   "cell_type": "code",
   "execution_count": 7,
   "metadata": {},
   "outputs": [],
   "source": [
    "NUM_OF_YEARS_PRED = 1/2 # num of year to predict\n",
    "NUM_OF_YEARS_DATA = 5 # num of years of data to use"
   ]
  },
  {
   "cell_type": "code",
   "execution_count": 8,
   "metadata": {},
   "outputs": [],
   "source": [
    "from tqdm import tqdm\n",
    "import os.path as path\n",
    "\n",
    "def prep_data(X,y,target_col_name='close',n_past_steps=365,n_future_steps=30):\n",
    "    X_sequence = []\n",
    "    y_sequence = []\n",
    "\n",
    "    X_filename = path.join(os.getcwd(), 'X_sequence.dat')\n",
    "    if path.exists(X_filename):\n",
    "        os.remove(X_filename)\n",
    "    y_filename = path.join(os.getcwd(), 'Y_sequence.dat')\n",
    "    if path.exists(y_filename):\n",
    "        os.remove(y_filename)\n",
    "\n",
    "    length = (X.groupby('symbol').ngroups)\n",
    "    cols = int(length)\n",
    "    for group_x, group_y, i in zip(X.groupby('symbol'), y.groupby('symbol'),tqdm(range(length),desc=\"Preparing data\",ncols=cols)):\n",
    "        \n",
    "        if group_x[0] == group_y[0]:\n",
    "            \n",
    "            X = group_x[1].drop(['date','symbol'],axis=1).values\n",
    "            y = group_y[1][target_col_name].values\n",
    "\n",
    "            for i in range(n_past_steps, len(X) - n_future_steps + 1):                 \n",
    "                X_sequence.append(X[i - n_past_steps:i, :])\n",
    "                y_sequence.append(y[i:i + n_future_steps])\n",
    "        else:\n",
    "            print(group_x[0],\" \",group_y[0],\" SKIPPED\")\n",
    "            \n",
    "    X_shape = (len(X_sequence),len(X_sequence[0]),len(X_sequence[0][0]))\n",
    "    y_shape = (len(y_sequence),len(y_sequence[0]))\n",
    "    \n",
    "    X_mem = np.memmap(X_filename, mode='w+',shape=(X_shape),dtype='float64')\n",
    "    y_mem = np.memmap(y_filename, mode='w+',shape=(y_shape),dtype='float64')\n",
    "\n",
    "    for i in tqdm(range(len(X_sequence)),desc=\"Flushing X data\",ncols=cols):\n",
    "        X_mem[i] = X_sequence[i]\n",
    "    X_mem.reshape(X_shape)\n",
    "    X_mem.flush()\n",
    "    \n",
    "    for i in tqdm(range(len(y_sequence)),desc=\"Flushing y data\",ncols=cols):\n",
    "        y_mem[i] = y_sequence[i]\n",
    "    y_mem.reshape(y_shape)\n",
    "    y_mem.flush()\n",
    "\n",
    "    print(\"X Shape : \",(len(X_sequence),len(X_sequence[0]),len(X_sequence[0][0])))\n",
    "    print(\"Y Shape: \",(len(y_sequence),len(y_sequence[0])))\n",
    "\n",
    "    shapes = {\"X\":X_shape, \"y\":y_shape}\n",
    "    np.save('shapes.npy',shapes)\n",
    "\n",
    "    print(\"DONE\")\n",
    "    del X_filename, y_filename\n",
    "    \n",
    "    return X_sequence, y_sequence"
   ]
  },
  {
   "cell_type": "code",
   "execution_count": 9,
   "metadata": {},
   "outputs": [
    {
     "name": "stderr",
     "output_type": "stream",
     "text": [
      "Preparing data:  99%|███████████████████████████████████████████████████████████████▍| 119/120 [00:00<00:00, 122.27it/s]\n",
      "Flushing X data: 100%|████████████████████████████████████████████████████████████| 66120/66120 [19:08<00:00, 57.59it/s]\n",
      "Flushing y data: 100%|████████████████████████████████████████████████████████| 66120/66120 [00:00<00:00, 137763.61it/s]\n"
     ]
    },
    {
     "name": "stdout",
     "output_type": "stream",
     "text": [
      "X Shape :  (66120, 1825, 308)\n",
      "Y Shape:  (66120, 182)\n",
      "DONE\n"
     ]
    }
   ],
   "source": [
    "X,Y = prep_data(df,prices,target_col_name='close',n_past_steps=int(365*NUM_OF_YEARS_DATA),n_future_steps=int(365*NUM_OF_YEARS_PRED)) # Use past 5*365 days/data point to predict next 1*365 days of \"target_col_name\"(close)"
   ]
  },
  {
   "cell_type": "code",
   "execution_count": 8,
   "metadata": {},
   "outputs": [],
   "source": [
    "shapes = np.load('shapes.npy',allow_pickle=True)\n",
    "X_shape = shapes.item()['X']\n",
    "y_shape = shapes.item()['y']"
   ]
  },
  {
   "cell_type": "code",
   "execution_count": 9,
   "metadata": {},
   "outputs": [],
   "source": [
    "X1 = np.memmap('X_sequence.dat', dtype='float64', mode='r+', shape=X_shape)\n",
    "Y1 = np.memmap('Y_sequence.dat', dtype='float64', mode='r+', shape=y_shape)"
   ]
  },
  {
   "cell_type": "code",
   "execution_count": 10,
   "metadata": {},
   "outputs": [
    {
     "name": "stdout",
     "output_type": "stream",
     "text": [
      "(1825, 308)\n",
      "[[-0.0452168  -0.04198384 -0.04124833 ...  0.          0.\n",
      "   1.        ]\n",
      " [-0.0452168  -0.04198384 -0.04124833 ...  0.          0.\n",
      "   1.        ]\n",
      " [-0.0452168  -0.04198384 -0.04124833 ...  0.          0.\n",
      "  -1.        ]\n",
      " ...\n",
      " [-0.04418512 -0.04125727 -0.0405759  ...  0.          0.\n",
      "   1.        ]\n",
      " [-0.0441725  -0.04124297 -0.04056139 ...  0.          0.\n",
      "  -1.        ]\n",
      " [-0.04418331 -0.04121695 -0.04052937 ...  0.          0.\n",
      "   1.        ]]\n",
      "\n",
      "(1825, 308)\n",
      "[[-0.0452168  -0.04198384 -0.04124833 ...  0.          0.\n",
      "   1.        ]\n",
      " [-0.0452168  -0.04198384 -0.04124833 ...  0.          0.\n",
      "  -1.        ]\n",
      " [-0.0452168  -0.04198384 -0.04124833 ...  0.          0.\n",
      "  -1.        ]\n",
      " ...\n",
      " [-0.0441725  -0.04124297 -0.04056139 ...  0.          0.\n",
      "  -1.        ]\n",
      " [-0.04418331 -0.04121695 -0.04052937 ...  0.          0.\n",
      "   1.        ]\n",
      " [-0.04415542 -0.04116639 -0.04047528 ...  0.          0.\n",
      "   1.        ]]\n",
      "\n",
      "(1825, 308)\n",
      "[[-0.0452168  -0.04198384 -0.04124833 ...  0.          0.\n",
      "  -1.        ]\n",
      " [-0.0452168  -0.04198384 -0.04124833 ...  0.          0.\n",
      "  -1.        ]\n",
      " [-0.0452168  -0.04198384 -0.04124833 ...  0.          0.\n",
      "   1.        ]\n",
      " ...\n",
      " [-0.04418331 -0.04121695 -0.04052937 ...  0.          0.\n",
      "   1.        ]\n",
      " [-0.04415542 -0.04116639 -0.04047528 ...  0.          0.\n",
      "   1.        ]\n",
      " [-0.04413463 -0.04112004 -0.04042489 ...  0.          0.\n",
      "  -1.        ]]\n",
      "\n"
     ]
    }
   ],
   "source": [
    "for i in range(3):\n",
    "    print(X1[i].shape)\n",
    "    print(X1[i])\n",
    "    print()"
   ]
  },
  {
   "cell_type": "code",
   "execution_count": 11,
   "metadata": {},
   "outputs": [
    {
     "name": "stdout",
     "output_type": "stream",
     "text": [
      "(182,)\n",
      "[39.59664917 38.90419006 40.18181992 40.02577209 40.29885483 38.53358078\n",
      " 38.16297531 38.71888351 39.67466736 38.85542297 35.27612686 34.93477631\n",
      " 35.24686813 35.59797287 34.28133392 35.64673233 38.0459404  38.6896286\n",
      " 39.96725082 39.01147079 37.76311493 37.8801384  36.80733109 37.66557312\n",
      " 37.04138565 36.49523544 36.45622635 36.03685379 35.39315414 34.48613739\n",
      " 32.75013351 31.28720474 32.2722435  33.07197189 34.17405319 35.4516716\n",
      " 34.91526794 35.19809723 36.60251236 35.92956543 36.04659653 36.98286438\n",
      " 35.56871414 35.3346405  34.48613739 36.51473618 36.36844635 34.73971939\n",
      " 34.27158356 33.686409   32.13570404 30.83856964 34.08627701 36.17338943\n",
      " 36.30992508 36.14413071 37.99716568 37.32422638 37.28520966 38.39704514\n",
      " 39.15776825 38.42630386 39.38208389 37.79236603 37.79236603 39.70392227\n",
      " 39.52837753 42.78583527 43.55630875 44.03420639 44.13172913 42.34695053\n",
      " 40.58168793 40.4646492  36.00758743 36.77806473 40.09403992 41.08884048\n",
      " 41.02056503 40.39637375 43.03940964 42.96139145 43.27347946 44.47307968\n",
      " 45.7507019  46.043293   45.61416245 44.59986496 46.33587646 48.27669907\n",
      " 48.00361633 46.81376648 50.40282059 48.18892288 47.62325287 47.26239777\n",
      " 44.47307968 46.7650032  47.35993195 47.29166031 50.28578949 49.72012711\n",
      " 49.33001328 47.73053741 48.54002762 47.96460724 47.83781815 45.88724136\n",
      " 45.88724136 44.89244461 46.121315   46.59920502 47.20388031 47.39893723\n",
      " 54.61606598 55.82542038 52.35339737 51.21231842 48.7545929  48.03287506\n",
      " 49.9054184  48.32546234 44.75590897 45.40101624 44.9122963  45.67468643\n",
      " 46.01677704 46.35887909 45.32281113 46.77916718 47.75658417 46.17316818\n",
      " 45.12733078 50.05351257 50.74747849 49.48661423 47.11149216 46.83781433\n",
      " 46.62277985 46.52503967 47.41448593 47.9129715  49.32045364 46.86713409\n",
      " 48.03025055 45.47920609 42.79130173 43.80781937 43.07476044 44.53111267\n",
      " 45.87994003 47.46335983 48.85129166 47.6979332  46.70097351 49.32045364\n",
      " 49.81893921 51.40234756 52.51660156 51.91060638 55.50749207 57.97058868\n",
      " 58.01946259 58.47885513 57.85329437 58.28336716 57.87284851 58.23449326\n",
      " 58.99687576 56.23078156 57.22775269 57.1300087  60.96148682 60.15023041\n",
      " 60.79532623 60.48255157 59.14348602 60.00362015 58.69387436 58.28336716\n",
      " 59.86677551 54.94058609]\n",
      "\n",
      "(182,)\n",
      "[38.90419006 40.18181992 40.02577209 40.29885483 38.53358078 38.16297531\n",
      " 38.71888351 39.67466736 38.85542297 35.27612686 34.93477631 35.24686813\n",
      " 35.59797287 34.28133392 35.64673233 38.0459404  38.6896286  39.96725082\n",
      " 39.01147079 37.76311493 37.8801384  36.80733109 37.66557312 37.04138565\n",
      " 36.49523544 36.45622635 36.03685379 35.39315414 34.48613739 32.75013351\n",
      " 31.28720474 32.2722435  33.07197189 34.17405319 35.4516716  34.91526794\n",
      " 35.19809723 36.60251236 35.92956543 36.04659653 36.98286438 35.56871414\n",
      " 35.3346405  34.48613739 36.51473618 36.36844635 34.73971939 34.27158356\n",
      " 33.686409   32.13570404 30.83856964 34.08627701 36.17338943 36.30992508\n",
      " 36.14413071 37.99716568 37.32422638 37.28520966 38.39704514 39.15776825\n",
      " 38.42630386 39.38208389 37.79236603 37.79236603 39.70392227 39.52837753\n",
      " 42.78583527 43.55630875 44.03420639 44.13172913 42.34695053 40.58168793\n",
      " 40.4646492  36.00758743 36.77806473 40.09403992 41.08884048 41.02056503\n",
      " 40.39637375 43.03940964 42.96139145 43.27347946 44.47307968 45.7507019\n",
      " 46.043293   45.61416245 44.59986496 46.33587646 48.27669907 48.00361633\n",
      " 46.81376648 50.40282059 48.18892288 47.62325287 47.26239777 44.47307968\n",
      " 46.7650032  47.35993195 47.29166031 50.28578949 49.72012711 49.33001328\n",
      " 47.73053741 48.54002762 47.96460724 47.83781815 45.88724136 45.88724136\n",
      " 44.89244461 46.121315   46.59920502 47.20388031 47.39893723 54.61606598\n",
      " 55.82542038 52.35339737 51.21231842 48.7545929  48.03287506 49.9054184\n",
      " 48.32546234 44.75590897 45.40101624 44.9122963  45.67468643 46.01677704\n",
      " 46.35887909 45.32281113 46.77916718 47.75658417 46.17316818 45.12733078\n",
      " 50.05351257 50.74747849 49.48661423 47.11149216 46.83781433 46.62277985\n",
      " 46.52503967 47.41448593 47.9129715  49.32045364 46.86713409 48.03025055\n",
      " 45.47920609 42.79130173 43.80781937 43.07476044 44.53111267 45.87994003\n",
      " 47.46335983 48.85129166 47.6979332  46.70097351 49.32045364 49.81893921\n",
      " 51.40234756 52.51660156 51.91060638 55.50749207 57.97058868 58.01946259\n",
      " 58.47885513 57.85329437 58.28336716 57.87284851 58.23449326 58.99687576\n",
      " 56.23078156 57.22775269 57.1300087  60.96148682 60.15023041 60.79532623\n",
      " 60.48255157 59.14348602 60.00362015 58.69387436 58.28336716 59.86677551\n",
      " 54.94058609 56.70972443]\n",
      "\n",
      "(182,)\n",
      "[40.18181992 40.02577209 40.29885483 38.53358078 38.16297531 38.71888351\n",
      " 39.67466736 38.85542297 35.27612686 34.93477631 35.24686813 35.59797287\n",
      " 34.28133392 35.64673233 38.0459404  38.6896286  39.96725082 39.01147079\n",
      " 37.76311493 37.8801384  36.80733109 37.66557312 37.04138565 36.49523544\n",
      " 36.45622635 36.03685379 35.39315414 34.48613739 32.75013351 31.28720474\n",
      " 32.2722435  33.07197189 34.17405319 35.4516716  34.91526794 35.19809723\n",
      " 36.60251236 35.92956543 36.04659653 36.98286438 35.56871414 35.3346405\n",
      " 34.48613739 36.51473618 36.36844635 34.73971939 34.27158356 33.686409\n",
      " 32.13570404 30.83856964 34.08627701 36.17338943 36.30992508 36.14413071\n",
      " 37.99716568 37.32422638 37.28520966 38.39704514 39.15776825 38.42630386\n",
      " 39.38208389 37.79236603 37.79236603 39.70392227 39.52837753 42.78583527\n",
      " 43.55630875 44.03420639 44.13172913 42.34695053 40.58168793 40.4646492\n",
      " 36.00758743 36.77806473 40.09403992 41.08884048 41.02056503 40.39637375\n",
      " 43.03940964 42.96139145 43.27347946 44.47307968 45.7507019  46.043293\n",
      " 45.61416245 44.59986496 46.33587646 48.27669907 48.00361633 46.81376648\n",
      " 50.40282059 48.18892288 47.62325287 47.26239777 44.47307968 46.7650032\n",
      " 47.35993195 47.29166031 50.28578949 49.72012711 49.33001328 47.73053741\n",
      " 48.54002762 47.96460724 47.83781815 45.88724136 45.88724136 44.89244461\n",
      " 46.121315   46.59920502 47.20388031 47.39893723 54.61606598 55.82542038\n",
      " 52.35339737 51.21231842 48.7545929  48.03287506 49.9054184  48.32546234\n",
      " 44.75590897 45.40101624 44.9122963  45.67468643 46.01677704 46.35887909\n",
      " 45.32281113 46.77916718 47.75658417 46.17316818 45.12733078 50.05351257\n",
      " 50.74747849 49.48661423 47.11149216 46.83781433 46.62277985 46.52503967\n",
      " 47.41448593 47.9129715  49.32045364 46.86713409 48.03025055 45.47920609\n",
      " 42.79130173 43.80781937 43.07476044 44.53111267 45.87994003 47.46335983\n",
      " 48.85129166 47.6979332  46.70097351 49.32045364 49.81893921 51.40234756\n",
      " 52.51660156 51.91060638 55.50749207 57.97058868 58.01946259 58.47885513\n",
      " 57.85329437 58.28336716 57.87284851 58.23449326 58.99687576 56.23078156\n",
      " 57.22775269 57.1300087  60.96148682 60.15023041 60.79532623 60.48255157\n",
      " 59.14348602 60.00362015 58.69387436 58.28336716 59.86677551 54.94058609\n",
      " 56.70972443 59.8276825 ]\n",
      "\n"
     ]
    }
   ],
   "source": [
    "for i in range(3):\n",
    "    print(Y1[i].shape)\n",
    "    print(Y1[i])\n",
    "    print()"
   ]
  }
 ],
 "metadata": {
  "kernelspec": {
   "display_name": "MachineLearning",
   "language": "python",
   "name": "python3"
  },
  "language_info": {
   "codemirror_mode": {
    "name": "ipython",
    "version": 3
   },
   "file_extension": ".py",
   "mimetype": "text/x-python",
   "name": "python",
   "nbconvert_exporter": "python",
   "pygments_lexer": "ipython3",
   "version": "3.11.7"
  }
 },
 "nbformat": 4,
 "nbformat_minor": 2
}
