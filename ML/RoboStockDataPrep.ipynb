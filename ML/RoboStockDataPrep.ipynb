{
 "cells": [
  {
   "cell_type": "code",
   "execution_count": 1,
   "metadata": {},
   "outputs": [],
   "source": [
    "import numpy as np\n",
    "import pandas_datareader.data as web\n",
    "import pandas as pd\n",
    "import pandas_ta as ta\n",
    "import pandas_market_calendars as mcal\n",
    "from dotenv import load_dotenv\n",
    "from datetime import datetime, timedelta\n",
    "import matplotlib\n",
    "import matplotlib.pyplot as plt\n",
    "import yfinance as yf\n",
    "import os"
   ]
  },
  {
   "cell_type": "code",
   "execution_count": 2,
   "metadata": {},
   "outputs": [],
   "source": [
    "import requests\n",
    "from bs4 import BeautifulSoup\n",
    "\n",
    "def add_symbols_from_URL(URL='https://www.tradingview.com/markets/stocks-usa/market-movers-most-volatile/',companies = []):\n",
    "\n",
    "    page = requests.get(URL)\n",
    "    soup = BeautifulSoup(page.content, \"html.parser\")\n",
    "    for row in soup.select('tbody tr'):\n",
    "        if not row.find(\"td\") == None:\n",
    "            if not row.find(\"td\").find(\"a\") == None:\n",
    "                #print(row.find(\"td\").find(\"a\").get_text())\n",
    "                symbol = row.find(\"td\").find(\"a\").get_text()\n",
    "                if symbol not in companies:\n",
    "                    companies.append(row.find(\"td\").find(\"a\").get_text())\n",
    "\n",
    "companies = []\n",
    "\n",
    "f = open(\"S&P_Top50.txt\", \"r\")\n",
    "for lines in f:\n",
    "    companies.append(lines.strip())\n",
    "\n",
    "add_symbols_from_URL(\"https://www.tradingview.com/markets/stocks-usa/market-movers-most-volatile/\",companies)\n",
    "add_symbols_from_URL(\"https://www.tradingview.com/markets/stocks-usa/market-movers-gainers/\",companies)\n",
    "add_symbols_from_URL(\"https://www.tradingview.com/markets/stocks-usa/market-movers-losers/\",companies)"
   ]
  },
  {
   "cell_type": "code",
   "execution_count": 3,
   "metadata": {},
   "outputs": [],
   "source": [
    "NUM_OF_YEARS_PRED = 1 # num of year to predict\n",
    "NUM_OF_YEARS_DATA = 5 # num of years of data to use"
   ]
  },
  {
   "cell_type": "code",
   "execution_count": 4,
   "metadata": {},
   "outputs": [],
   "source": [
    "selected_features = []\n",
    "\n",
    "file = open('selected_features.txt','r')\n",
    "for lines in file:\n",
    "\tselected_features.append(lines.strip())"
   ]
  },
  {
   "cell_type": "code",
   "execution_count": 5,
   "metadata": {},
   "outputs": [],
   "source": [
    "companies.sort()"
   ]
  },
  {
   "cell_type": "code",
   "execution_count": 6,
   "metadata": {},
   "outputs": [],
   "source": [
    "def create_outcome(df:pd.DataFrame,year_pred:int,date:datetime):\n",
    "\n",
    "    outcome_out = df.sort_index().copy()\n",
    "    outcome_out.drop(columns=df.columns.difference(['date','symbol']),inplace=True)\n",
    "    outcome_out.set_index(pd.DatetimeIndex(outcome_out[\"date\"]),inplace=True)\n",
    "    end_date =  df.index[-1]\n",
    "    start_date = end_date.replace(year=end_date.year-year_pred)\n",
    "    days_shift = (end_date - start_date).days\n",
    "\n",
    "    outcome_colums = df.columns.difference(['date','symbol'])\n",
    "\n",
    "    for i in range(1,days_shift+1):\n",
    "        outcome = df[outcome_colums].shift(-i).add_suffix('_f'+str(i))\n",
    "        outcome_out = pd.concat([outcome_out,outcome],axis=1)\n",
    "         \n",
    "    return outcome_out\n",
    "\n",
    "def create_indicators(df:pd.DataFrame):\n",
    "    features = df.sort_index().copy()\n",
    "\n",
    "    features.set_index((features[\"date\"]),inplace=True)\n",
    "\n",
    "    features.ta.core = os.cpu_count()/2\n",
    "\n",
    "    features.ta.strategy(ta.AllStrategy,exclude=[\"mcgd\"],lookahead=False)\n",
    "    features.ta.cdl_pattern(ta.ALL_PATTERNS, lookahead=False)\n",
    "\n",
    "    features.drop(['open','high','low','close','volume'],axis=1,inplace=True)\n",
    "    \n",
    "    features.replace([np.inf, -np.inf], np.nan , inplace=True)\n",
    "    for col in features.columns.difference(['date','symbol']): # fill nans\n",
    "        features[col].interpolate(method=\"time\",limit_direction=\"both\",inplace=True)\n",
    "        #features[col].interpolate(method=\"time\",limit_direction=\"both\",inplace=True)\n",
    "    features.ffill(inplace = True)\n",
    "         \n",
    "    return features\n",
    "\n",
    "def get_data(symbols,features,year_pred=NUM_OF_YEARS_PRED, year_data=NUM_OF_YEARS_DATA, data_source=None, begin_date=None,end_date=None):\n",
    "    end_date = datetime.now().date() # to make sure we get todays data\n",
    "    start_date = end_date.replace(year=end_date.year-(2*year_pred)-year_data)\n",
    "\n",
    "    data_days = (end_date - start_date).days\n",
    "\n",
    "    nyse = mcal.get_calendar('NYSE')\n",
    "    dates = nyse.valid_days(start_date, end_date)\n",
    "\n",
    "    while len(dates) <= data_days:\n",
    "        if len(dates) == data_days:\n",
    "            break\n",
    "        start_date = start_date + timedelta(days=len(dates)-data_days)\n",
    "        dates = nyse.valid_days(start_date, end_date)\n",
    "    \n",
    "    start_date = dates[0].date()\n",
    "    end_date = dates[-1].date()\n",
    "\n",
    "    days_shift = (end_date - end_date.replace(year=end_date.year-year_pred)).days\n",
    "\n",
    "    features_out = pd.DataFrame()\n",
    "    prices_out = pd.DataFrame()\n",
    "    outcomes_out = pd.DataFrame()\n",
    "    for symbol in symbols:\n",
    "        if \".\" in symbol:\n",
    "            continue\n",
    "\n",
    "        ticker  = yf.Ticker(symbol)\n",
    "\n",
    "        if ticker.info is None:\n",
    "            continue\n",
    "\n",
    "        df = ticker.history(start=start_date,interval='1d', auto_adjust=True)[['Open','High','Low','Close','Volume']].reset_index()     \n",
    "        \n",
    "        df.columns = ['date','open','high','low','close','volume']\n",
    "        df['symbol'] = symbol\n",
    "\n",
    "        if not df.date[0].date() == start_date:\n",
    "            print(\"Not Enough Data For: \", symbol)\n",
    "            continue\n",
    "        \n",
    "        #df['date'] = pd.to_datetime(df['date'])\n",
    "        df = df.set_index(df['date'])\n",
    "        #outcomes = create_outcome(df,year_pred,dates[-days_shift])\n",
    "        #df = df[:dates[-days_shift]]\n",
    "        features = create_indicators(df)\n",
    "        \n",
    "\n",
    "        df = df.set_index(['date','symbol'])\n",
    "        features = features.set_index(['date','symbol'])\n",
    "        #outcomes = outcomes.set_index(['date','symbol'])\n",
    "\n",
    "        prices_out = pd.concat([prices_out,df],axis=0)\n",
    "        features_out = pd.concat([features_out,features],axis=0)\n",
    "        #outcomes_out = pd.concat([outcomes_out,outcomes],axis=0)\n",
    "\n",
    "        print(\"Done Processing : \", symbol)\n",
    "\n",
    "    return features_out.sort_index(),prices_out.sort_index()"
   ]
  },
  {
   "cell_type": "code",
   "execution_count": 7,
   "metadata": {},
   "outputs": [
    {
     "name": "stderr",
     "output_type": "stream",
     "text": [
      "130it [00:02, 49.65it/s]\n"
     ]
    },
    {
     "name": "stdout",
     "output_type": "stream",
     "text": [
      "Done Processing :  AA\n",
      "Not Enough Data For:  AAMC\n"
     ]
    },
    {
     "name": "stderr",
     "output_type": "stream",
     "text": [
      "130it [00:02, 54.38it/s]\n"
     ]
    },
    {
     "name": "stdout",
     "output_type": "stream",
     "text": [
      "Done Processing :  AAME\n"
     ]
    },
    {
     "name": "stderr",
     "output_type": "stream",
     "text": [
      "130it [00:02, 53.17it/s]\n"
     ]
    },
    {
     "name": "stdout",
     "output_type": "stream",
     "text": [
      "Done Processing :  AAPL\n"
     ]
    },
    {
     "name": "stderr",
     "output_type": "stream",
     "text": [
      "130it [00:02, 56.21it/s]\n"
     ]
    },
    {
     "name": "stdout",
     "output_type": "stream",
     "text": [
      "Done Processing :  ABBV\n",
      "Not Enough Data For:  ABSI\n"
     ]
    },
    {
     "name": "stderr",
     "output_type": "stream",
     "text": [
      "130it [00:02, 51.62it/s]\n"
     ]
    },
    {
     "name": "stdout",
     "output_type": "stream",
     "text": [
      "Done Processing :  ABT\n"
     ]
    },
    {
     "name": "stderr",
     "output_type": "stream",
     "text": [
      "130it [00:02, 52.63it/s]\n"
     ]
    },
    {
     "name": "stdout",
     "output_type": "stream",
     "text": [
      "Done Processing :  ACN\n",
      "Not Enough Data For:  ACON\n"
     ]
    },
    {
     "name": "stderr",
     "output_type": "stream",
     "text": [
      "130it [00:02, 48.01it/s]\n"
     ]
    },
    {
     "name": "stdout",
     "output_type": "stream",
     "text": [
      "Done Processing :  ACOR\n"
     ]
    },
    {
     "name": "stderr",
     "output_type": "stream",
     "text": [
      "130it [00:02, 54.19it/s]\n"
     ]
    },
    {
     "name": "stdout",
     "output_type": "stream",
     "text": [
      "Done Processing :  ADBE\n",
      "Not Enough Data For:  ADTX\n",
      "Not Enough Data For:  AGL\n",
      "Not Enough Data For:  AINC\n"
     ]
    },
    {
     "name": "stderr",
     "output_type": "stream",
     "text": [
      "130it [00:02, 55.20it/s]\n"
     ]
    },
    {
     "name": "stdout",
     "output_type": "stream",
     "text": [
      "Done Processing :  AIRI\n"
     ]
    },
    {
     "name": "stderr",
     "output_type": "stream",
     "text": [
      "130it [00:02, 50.14it/s]\n"
     ]
    },
    {
     "name": "stdout",
     "output_type": "stream",
     "text": [
      "Done Processing :  AIRT\n",
      "Not Enough Data For:  AISP\n",
      "Not Enough Data For:  AKAN\n",
      "Not Enough Data For:  ALDX\n",
      "Not Enough Data For:  ALLG\n",
      "Not Enough Data For:  ALT\n",
      "Not Enough Data For:  ALTI\n",
      "Not Enough Data For:  ALVO\n"
     ]
    },
    {
     "name": "stderr",
     "output_type": "stream",
     "text": [
      "130it [00:02, 52.28it/s]\n"
     ]
    },
    {
     "name": "stdout",
     "output_type": "stream",
     "text": [
      "Done Processing :  AMD\n",
      "Not Enough Data For:  AMPG\n",
      "Not Enough Data For:  AMPX\n"
     ]
    },
    {
     "name": "stderr",
     "output_type": "stream",
     "text": [
      "130it [00:02, 58.00it/s]\n"
     ]
    },
    {
     "name": "stdout",
     "output_type": "stream",
     "text": [
      "Done Processing :  AMPY\n"
     ]
    },
    {
     "name": "stderr",
     "output_type": "stream",
     "text": [
      "130it [00:02, 48.37it/s]\n"
     ]
    },
    {
     "name": "stdout",
     "output_type": "stream",
     "text": [
      "Done Processing :  AMZN\n",
      "Not Enough Data For:  ANGH\n"
     ]
    },
    {
     "name": "stderr",
     "output_type": "stream",
     "text": [
      "130it [00:02, 56.77it/s]\n"
     ]
    },
    {
     "name": "stdout",
     "output_type": "stream",
     "text": [
      "Done Processing :  ANGO\n",
      "Not Enough Data For:  ANTX\n",
      "Not Enough Data For:  APAC\n"
     ]
    },
    {
     "name": "stderr",
     "output_type": "stream",
     "text": [
      "130it [00:02, 51.00it/s]\n"
     ]
    },
    {
     "name": "stdout",
     "output_type": "stream",
     "text": [
      "Done Processing :  AREN\n"
     ]
    },
    {
     "name": "stderr",
     "output_type": "stream",
     "text": [
      "130it [00:02, 53.41it/s]\n"
     ]
    },
    {
     "name": "stdout",
     "output_type": "stream",
     "text": [
      "Done Processing :  ARQ\n",
      "Not Enough Data For:  ARRW\n",
      "Not Enough Data For:  ASTS\n",
      "Not Enough Data For:  ATGL\n",
      "Not Enough Data For:  AUST\n",
      "Not Enough Data For:  AUVI\n"
     ]
    },
    {
     "name": "stderr",
     "output_type": "stream",
     "text": [
      "130it [00:02, 59.17it/s]\n"
     ]
    },
    {
     "name": "stdout",
     "output_type": "stream",
     "text": [
      "Done Processing :  AVGO\n",
      "Not Enough Data For:  AVTX\n"
     ]
    },
    {
     "name": "stderr",
     "output_type": "stream",
     "text": [
      "130it [00:02, 56.97it/s]\n"
     ]
    },
    {
     "name": "stdout",
     "output_type": "stream",
     "text": [
      "Done Processing :  AVXL\n"
     ]
    },
    {
     "name": "stderr",
     "output_type": "stream",
     "text": [
      "130it [00:02, 58.19it/s]\n"
     ]
    },
    {
     "name": "stdout",
     "output_type": "stream",
     "text": [
      "Done Processing :  AWH\n",
      "Not Enough Data For:  AWIN\n",
      "Not Enough Data For:  AZ\n"
     ]
    },
    {
     "name": "stderr",
     "output_type": "stream",
     "text": [
      "130it [00:02, 55.96it/s]\n"
     ]
    },
    {
     "name": "stdout",
     "output_type": "stream",
     "text": [
      "Done Processing :  BAC\n",
      "Not Enough Data For:  BACK\n",
      "Not Enough Data For:  BCG\n",
      "Not Enough Data For:  BFRI\n",
      "Not Enough Data For:  BMEA\n",
      "Not Enough Data For:  BNAI\n",
      "Not Enough Data For:  BOWL\n",
      "Not Enough Data For:  BRLS\n",
      "Not Enough Data For:  BTBT\n",
      "Not Enough Data For:  BTOG\n",
      "Not Enough Data For:  BYSI\n"
     ]
    },
    {
     "name": "stderr",
     "output_type": "stream",
     "text": [
      "130it [00:02, 59.29it/s]\n"
     ]
    },
    {
     "name": "stdout",
     "output_type": "stream",
     "text": [
      "Done Processing :  CAMP\n",
      "Not Enough Data For:  CDIO\n",
      "Not Enough Data For:  CERO\n",
      "Not Enough Data For:  CHX\n",
      "Not Enough Data For:  CIFR\n",
      "Not Enough Data For:  CINT\n",
      "Not Enough Data For:  CISS\n"
     ]
    },
    {
     "name": "stderr",
     "output_type": "stream",
     "text": [
      "130it [00:02, 59.93it/s]\n"
     ]
    },
    {
     "name": "stdout",
     "output_type": "stream",
     "text": [
      "Done Processing :  CLRO\n",
      "Not Enough Data For:  CLSD\n",
      "Not Enough Data For:  CLSK\n"
     ]
    },
    {
     "name": "stderr",
     "output_type": "stream",
     "text": [
      "130it [00:02, 54.21it/s]\n"
     ]
    },
    {
     "name": "stdout",
     "output_type": "stream",
     "text": [
      "Done Processing :  CMCSA\n",
      "Not Enough Data For:  CNFR\n",
      "Not Enough Data For:  CNSP\n",
      "Not Enough Data For:  COOL\n"
     ]
    },
    {
     "name": "stderr",
     "output_type": "stream",
     "text": [
      "130it [00:02, 59.20it/s]\n"
     ]
    },
    {
     "name": "stdout",
     "output_type": "stream",
     "text": [
      "Done Processing :  COST\n"
     ]
    },
    {
     "name": "stderr",
     "output_type": "stream",
     "text": [
      "130it [00:02, 55.26it/s]\n"
     ]
    },
    {
     "name": "stdout",
     "output_type": "stream",
     "text": [
      "Done Processing :  CRM\n",
      "Not Enough Data For:  CRML\n"
     ]
    },
    {
     "name": "stderr",
     "output_type": "stream",
     "text": [
      "130it [00:02, 55.71it/s]\n"
     ]
    },
    {
     "name": "stdout",
     "output_type": "stream",
     "text": [
      "Done Processing :  CSCO\n"
     ]
    },
    {
     "name": "stderr",
     "output_type": "stream",
     "text": [
      "130it [00:02, 50.59it/s]\n"
     ]
    },
    {
     "name": "stdout",
     "output_type": "stream",
     "text": [
      "Done Processing :  CVV\n"
     ]
    },
    {
     "name": "stderr",
     "output_type": "stream",
     "text": [
      "130it [00:02, 51.90it/s]\n"
     ]
    },
    {
     "name": "stdout",
     "output_type": "stream",
     "text": [
      "Done Processing :  CVX\n",
      "Not Enough Data For:  CXAI\n"
     ]
    },
    {
     "name": "stderr",
     "output_type": "stream",
     "text": [
      "130it [00:02, 56.77it/s]\n"
     ]
    },
    {
     "name": "stdout",
     "output_type": "stream",
     "text": [
      "Done Processing :  CYTH\n",
      "Not Enough Data For:  CZOO\n",
      "Not Enough Data For:  DCFC\n",
      "Not Enough Data For:  DECA\n"
     ]
    },
    {
     "name": "stderr",
     "output_type": "stream",
     "text": [
      "130it [00:02, 51.33it/s]\n"
     ]
    },
    {
     "name": "stdout",
     "output_type": "stream",
     "text": [
      "Done Processing :  DHR\n"
     ]
    },
    {
     "name": "stderr",
     "output_type": "stream",
     "text": [
      "130it [00:02, 52.14it/s]\n"
     ]
    },
    {
     "name": "stdout",
     "output_type": "stream",
     "text": [
      "Done Processing :  DHX\n"
     ]
    },
    {
     "name": "stderr",
     "output_type": "stream",
     "text": [
      "130it [00:02, 50.81it/s]\n"
     ]
    },
    {
     "name": "stdout",
     "output_type": "stream",
     "text": [
      "Done Processing :  DIS\n",
      "Not Enough Data For:  DJT\n",
      "Not Enough Data For:  DNTH\n",
      "Not Enough Data For:  DRCT\n",
      "Not Enough Data For:  DTI\n",
      "Not Enough Data For:  DTSS\n"
     ]
    },
    {
     "name": "stderr",
     "output_type": "stream",
     "text": [
      "130it [00:02, 53.95it/s]\n"
     ]
    },
    {
     "name": "stdout",
     "output_type": "stream",
     "text": [
      "Done Processing :  DTST\n",
      "Not Enough Data For:  DUOT\n",
      "Not Enough Data For:  DXYZ\n",
      "Not Enough Data For:  EFSH\n",
      "Not Enough Data For:  EGOX\n"
     ]
    },
    {
     "name": "stderr",
     "output_type": "stream",
     "text": [
      "130it [00:02, 56.59it/s]\n"
     ]
    },
    {
     "name": "stdout",
     "output_type": "stream",
     "text": [
      "Done Processing :  EIGR\n",
      "Not Enough Data For:  ENVB\n"
     ]
    },
    {
     "name": "stderr",
     "output_type": "stream",
     "text": [
      "130it [00:02, 54.92it/s]\n"
     ]
    },
    {
     "name": "stdout",
     "output_type": "stream",
     "text": [
      "Done Processing :  EP\n",
      "Not Enough Data For:  EVGO\n"
     ]
    },
    {
     "name": "stderr",
     "output_type": "stream",
     "text": [
      "130it [00:02, 53.22it/s]\n"
     ]
    },
    {
     "name": "stdout",
     "output_type": "stream",
     "text": [
      "Done Processing :  EXAS\n",
      "Not Enough Data For:  EZFL\n",
      "Not Enough Data For:  FGEN\n",
      "Not Enough Data For:  FLGC\n",
      "Not Enough Data For:  FLNC\n"
     ]
    },
    {
     "name": "stderr",
     "output_type": "stream",
     "text": [
      "130it [00:02, 59.50it/s]\n"
     ]
    },
    {
     "name": "stdout",
     "output_type": "stream",
     "text": [
      "Done Processing :  FLXS\n",
      "Not Enough Data For:  FNGR\n"
     ]
    },
    {
     "name": "stderr",
     "output_type": "stream",
     "text": [
      "130it [00:02, 49.49it/s]\n"
     ]
    },
    {
     "name": "stdout",
     "output_type": "stream",
     "text": [
      "Done Processing :  GAIA\n",
      "Not Enough Data For:  GCT\n",
      "Not Enough Data For:  GCTS\n"
     ]
    },
    {
     "name": "stderr",
     "output_type": "stream",
     "text": [
      "130it [00:02, 59.53it/s]\n"
     ]
    },
    {
     "name": "stdout",
     "output_type": "stream",
     "text": [
      "Done Processing :  GE\n",
      "Not Enough Data For:  GLSI\n",
      "Not Enough Data For:  GMDA\n",
      "Not Enough Data For:  GOEV\n",
      "Not Enough Data For:  GOOG\n"
     ]
    },
    {
     "name": "stderr",
     "output_type": "stream",
     "text": [
      "130it [00:02, 58.26it/s]\n"
     ]
    },
    {
     "name": "stdout",
     "output_type": "stream",
     "text": [
      "Done Processing :  GOOGL\n",
      "Not Enough Data For:  GRI\n"
     ]
    },
    {
     "name": "stderr",
     "output_type": "stream",
     "text": [
      "130it [00:02, 54.64it/s]\n"
     ]
    },
    {
     "name": "stdout",
     "output_type": "stream",
     "text": [
      "Done Processing :  GROW\n"
     ]
    },
    {
     "name": "stderr",
     "output_type": "stream",
     "text": [
      "130it [00:02, 59.15it/s]\n"
     ]
    },
    {
     "name": "stdout",
     "output_type": "stream",
     "text": [
      "Done Processing :  GRPN\n",
      "Not Enough Data For:  GRTS\n"
     ]
    },
    {
     "name": "stderr",
     "output_type": "stream",
     "text": [
      "130it [00:02, 54.53it/s]\n"
     ]
    },
    {
     "name": "stdout",
     "output_type": "stream",
     "text": [
      "Done Processing :  GSIT\n"
     ]
    },
    {
     "name": "stderr",
     "output_type": "stream",
     "text": [
      "130it [00:02, 55.96it/s]\n"
     ]
    },
    {
     "name": "stdout",
     "output_type": "stream",
     "text": [
      "Done Processing :  GTE\n",
      "Not Enough Data For:  GUTS\n",
      "Not Enough Data For:  GV\n"
     ]
    },
    {
     "name": "stderr",
     "output_type": "stream",
     "text": [
      "130it [00:02, 54.79it/s]\n"
     ]
    },
    {
     "name": "stdout",
     "output_type": "stream",
     "text": [
      "Done Processing :  GVP\n"
     ]
    },
    {
     "name": "stderr",
     "output_type": "stream",
     "text": [
      "130it [00:02, 56.60it/s]\n"
     ]
    },
    {
     "name": "stdout",
     "output_type": "stream",
     "text": [
      "Done Processing :  GYRE\n"
     ]
    },
    {
     "name": "stderr",
     "output_type": "stream",
     "text": [
      "130it [00:02, 55.20it/s]\n"
     ]
    },
    {
     "name": "stdout",
     "output_type": "stream",
     "text": [
      "Done Processing :  HBI\n"
     ]
    },
    {
     "name": "stderr",
     "output_type": "stream",
     "text": [
      "130it [00:02, 56.50it/s]\n"
     ]
    },
    {
     "name": "stdout",
     "output_type": "stream",
     "text": [
      "Done Processing :  HD\n"
     ]
    },
    {
     "name": "stderr",
     "output_type": "stream",
     "text": [
      "130it [00:02, 54.85it/s]\n"
     ]
    },
    {
     "name": "stdout",
     "output_type": "stream",
     "text": [
      "Done Processing :  HLF\n",
      "Not Enough Data For:  HOLO\n"
     ]
    },
    {
     "name": "stderr",
     "output_type": "stream",
     "text": [
      "130it [00:02, 56.93it/s]\n"
     ]
    },
    {
     "name": "stdout",
     "output_type": "stream",
     "text": [
      "Done Processing :  HUM\n",
      "Not Enough Data For:  HWH\n",
      "Not Enough Data For:  HYMC\n"
     ]
    },
    {
     "name": "stderr",
     "output_type": "stream",
     "text": [
      "130it [00:02, 55.20it/s]\n"
     ]
    },
    {
     "name": "stdout",
     "output_type": "stream",
     "text": [
      "Done Processing :  IBIO\n"
     ]
    },
    {
     "name": "stderr",
     "output_type": "stream",
     "text": [
      "130it [00:02, 56.18it/s]\n"
     ]
    },
    {
     "name": "stdout",
     "output_type": "stream",
     "text": [
      "Done Processing :  IBM\n"
     ]
    },
    {
     "name": "stderr",
     "output_type": "stream",
     "text": [
      "130it [00:02, 54.13it/s]\n"
     ]
    },
    {
     "name": "stdout",
     "output_type": "stream",
     "text": [
      "Done Processing :  IDN\n"
     ]
    },
    {
     "name": "stderr",
     "output_type": "stream",
     "text": [
      "130it [00:02, 46.63it/s]\n"
     ]
    },
    {
     "name": "stdout",
     "output_type": "stream",
     "text": [
      "Done Processing :  IGC\n",
      "Not Enough Data For:  IHS\n"
     ]
    },
    {
     "name": "stderr",
     "output_type": "stream",
     "text": [
      "130it [00:02, 51.60it/s]\n"
     ]
    },
    {
     "name": "stdout",
     "output_type": "stream",
     "text": [
      "Done Processing :  IMNN\n",
      "Not Enough Data For:  IMPP\n",
      "Not Enough Data For:  IMRX\n",
      "Not Enough Data For:  INDI\n"
     ]
    },
    {
     "name": "stderr",
     "output_type": "stream",
     "text": [
      "130it [00:02, 49.21it/s]\n"
     ]
    },
    {
     "name": "stdout",
     "output_type": "stream",
     "text": [
      "Done Processing :  INFN\n"
     ]
    },
    {
     "name": "stderr",
     "output_type": "stream",
     "text": [
      "130it [00:03, 40.47it/s]\n"
     ]
    },
    {
     "name": "stdout",
     "output_type": "stream",
     "text": [
      "Done Processing :  INLX\n"
     ]
    },
    {
     "name": "stderr",
     "output_type": "stream",
     "text": [
      "130it [00:03, 40.41it/s]\n"
     ]
    },
    {
     "name": "stdout",
     "output_type": "stream",
     "text": [
      "Done Processing :  INTC\n"
     ]
    },
    {
     "name": "stderr",
     "output_type": "stream",
     "text": [
      "130it [00:02, 47.22it/s]\n"
     ]
    },
    {
     "name": "stdout",
     "output_type": "stream",
     "text": [
      "Done Processing :  INTU\n"
     ]
    },
    {
     "name": "stderr",
     "output_type": "stream",
     "text": [
      "130it [00:02, 46.31it/s]\n"
     ]
    },
    {
     "name": "stdout",
     "output_type": "stream",
     "text": [
      "Done Processing :  INTZ\n",
      "Not Enough Data For:  IREN\n",
      "Not Enough Data For:  IVVD\n"
     ]
    },
    {
     "name": "stderr",
     "output_type": "stream",
     "text": [
      "130it [00:02, 47.38it/s]\n"
     ]
    },
    {
     "name": "stdout",
     "output_type": "stream",
     "text": [
      "Done Processing :  IZEA\n",
      "Not Enough Data For:  IZM\n"
     ]
    },
    {
     "name": "stderr",
     "output_type": "stream",
     "text": [
      "130it [00:02, 50.14it/s]\n"
     ]
    },
    {
     "name": "stdout",
     "output_type": "stream",
     "text": [
      "Done Processing :  JNJ\n"
     ]
    },
    {
     "name": "stderr",
     "output_type": "stream",
     "text": [
      "130it [00:02, 55.18it/s]\n"
     ]
    },
    {
     "name": "stdout",
     "output_type": "stream",
     "text": [
      "Done Processing :  JPM\n",
      "Not Enough Data For:  KNSL\n"
     ]
    },
    {
     "name": "stderr",
     "output_type": "stream",
     "text": [
      "130it [00:02, 51.95it/s]\n"
     ]
    },
    {
     "name": "stdout",
     "output_type": "stream",
     "text": [
      "Done Processing :  KO\n",
      "Not Enough Data For:  KULR\n",
      "Not Enough Data For:  KYCH\n",
      "Not Enough Data For:  LE\n",
      "Not Enough Data For:  LGCB\n",
      "Not Enough Data For:  LGVC\n",
      "Not Enough Data For:  LIFW\n"
     ]
    },
    {
     "name": "stderr",
     "output_type": "stream",
     "text": [
      "130it [00:02, 48.77it/s]\n"
     ]
    },
    {
     "name": "stdout",
     "output_type": "stream",
     "text": [
      "Done Processing :  LIND\n"
     ]
    },
    {
     "name": "stderr",
     "output_type": "stream",
     "text": [
      "130it [00:02, 54.02it/s]\n"
     ]
    },
    {
     "name": "stdout",
     "output_type": "stream",
     "text": [
      "Done Processing :  LIXT\n"
     ]
    },
    {
     "name": "stderr",
     "output_type": "stream",
     "text": [
      "130it [00:02, 53.34it/s]\n"
     ]
    },
    {
     "name": "stdout",
     "output_type": "stream",
     "text": [
      "Done Processing :  LLY\n",
      "Not Enough Data For:  LOBO\n",
      "Not Enough Data For:  LOOP\n",
      "Not Enough Data For:  LPA\n",
      "Not Enough Data For:  LYRA\n",
      "Not Enough Data For:  LYT\n"
     ]
    },
    {
     "name": "stderr",
     "output_type": "stream",
     "text": [
      "130it [00:03, 41.96it/s]\n"
     ]
    },
    {
     "name": "stdout",
     "output_type": "stream",
     "text": [
      "Done Processing :  MA\n"
     ]
    },
    {
     "name": "stderr",
     "output_type": "stream",
     "text": [
      "130it [00:02, 44.41it/s]\n"
     ]
    },
    {
     "name": "stdout",
     "output_type": "stream",
     "text": [
      "Done Processing :  MARA\n"
     ]
    },
    {
     "name": "stderr",
     "output_type": "stream",
     "text": [
      "130it [00:02, 48.67it/s]\n"
     ]
    },
    {
     "name": "stdout",
     "output_type": "stream",
     "text": [
      "Done Processing :  MARPS\n",
      "Not Enough Data For:  MAXN\n"
     ]
    },
    {
     "name": "stderr",
     "output_type": "stream",
     "text": [
      "130it [00:02, 52.03it/s]\n"
     ]
    },
    {
     "name": "stdout",
     "output_type": "stream",
     "text": [
      "Done Processing :  MCD\n",
      "Not Enough Data For:  MDAI\n",
      "Not Enough Data For:  MDXH\n",
      "Not Enough Data For:  MEG\n",
      "Not Enough Data For:  MGOL\n"
     ]
    },
    {
     "name": "stderr",
     "output_type": "stream",
     "text": [
      "130it [00:02, 50.89it/s]\n"
     ]
    },
    {
     "name": "stdout",
     "output_type": "stream",
     "text": [
      "Done Processing :  MLAB\n",
      "Not Enough Data For:  MQ\n",
      "Not Enough Data For:  MRAI\n"
     ]
    },
    {
     "name": "stderr",
     "output_type": "stream",
     "text": [
      "130it [00:02, 51.99it/s]\n"
     ]
    },
    {
     "name": "stdout",
     "output_type": "stream",
     "text": [
      "Done Processing :  MRK\n",
      "Not Enough Data For:  MRNO\n"
     ]
    },
    {
     "name": "stderr",
     "output_type": "stream",
     "text": [
      "130it [00:02, 47.83it/s]\n"
     ]
    },
    {
     "name": "stdout",
     "output_type": "stream",
     "text": [
      "Done Processing :  MSFT\n"
     ]
    },
    {
     "name": "stderr",
     "output_type": "stream",
     "text": [
      "130it [00:02, 49.66it/s]\n"
     ]
    },
    {
     "name": "stdout",
     "output_type": "stream",
     "text": [
      "Done Processing :  MTEX\n",
      "Not Enough Data For:  MVST\n"
     ]
    },
    {
     "name": "stderr",
     "output_type": "stream",
     "text": [
      "130it [00:02, 48.26it/s]\n"
     ]
    },
    {
     "name": "stdout",
     "output_type": "stream",
     "text": [
      "Done Processing :  MXC\n"
     ]
    },
    {
     "name": "stderr",
     "output_type": "stream",
     "text": [
      "130it [00:02, 47.50it/s]\n"
     ]
    },
    {
     "name": "stdout",
     "output_type": "stream",
     "text": [
      "Done Processing :  MXL\n"
     ]
    },
    {
     "name": "stderr",
     "output_type": "stream",
     "text": [
      "130it [00:02, 48.51it/s]\n"
     ]
    },
    {
     "name": "stdout",
     "output_type": "stream",
     "text": [
      "Done Processing :  NAII\n",
      "Not Enough Data For:  NAUT\n"
     ]
    },
    {
     "name": "stderr",
     "output_type": "stream",
     "text": [
      "130it [00:02, 43.55it/s]\n"
     ]
    },
    {
     "name": "stdout",
     "output_type": "stream",
     "text": [
      "Done Processing :  NCLH\n",
      "Not Enough Data For:  NEOV\n"
     ]
    },
    {
     "name": "stderr",
     "output_type": "stream",
     "text": [
      "130it [00:02, 51.80it/s]\n"
     ]
    },
    {
     "name": "stdout",
     "output_type": "stream",
     "text": [
      "Done Processing :  NFLX\n"
     ]
    },
    {
     "name": "stderr",
     "output_type": "stream",
     "text": [
      "130it [00:02, 50.53it/s]\n"
     ]
    },
    {
     "name": "stdout",
     "output_type": "stream",
     "text": [
      "Done Processing :  NGS\n",
      "Not Enough Data For:  NINE\n",
      "Not Enough Data For:  NISN\n",
      "Not Enough Data For:  NKTX\n",
      "Not Enough Data For:  NOVA\n"
     ]
    },
    {
     "name": "stderr",
     "output_type": "stream",
     "text": [
      "130it [00:02, 50.10it/s]\n"
     ]
    },
    {
     "name": "stdout",
     "output_type": "stream",
     "text": [
      "Done Processing :  NSPR\n"
     ]
    },
    {
     "name": "stderr",
     "output_type": "stream",
     "text": [
      "130it [00:02, 49.82it/s]\n"
     ]
    },
    {
     "name": "stdout",
     "output_type": "stream",
     "text": [
      "Done Processing :  NVDA\n"
     ]
    },
    {
     "name": "stderr",
     "output_type": "stream",
     "text": [
      "130it [00:02, 48.53it/s]\n"
     ]
    },
    {
     "name": "stdout",
     "output_type": "stream",
     "text": [
      "Done Processing :  NWFL\n",
      "Not Enough Data For:  NXGL\n",
      "Not Enough Data For:  NXL\n",
      "Not Enough Data For:  NXTC\n",
      "Not Enough Data For:  OCEA\n"
     ]
    },
    {
     "name": "stderr",
     "output_type": "stream",
     "text": [
      "130it [00:02, 44.42it/s]\n"
     ]
    },
    {
     "name": "stdout",
     "output_type": "stream",
     "text": [
      "Done Processing :  OII\n"
     ]
    },
    {
     "name": "stderr",
     "output_type": "stream",
     "text": [
      "130it [00:02, 45.24it/s]\n"
     ]
    },
    {
     "name": "stdout",
     "output_type": "stream",
     "text": [
      "Done Processing :  OMQS\n"
     ]
    },
    {
     "name": "stderr",
     "output_type": "stream",
     "text": [
      "130it [00:02, 47.13it/s]\n"
     ]
    },
    {
     "name": "stdout",
     "output_type": "stream",
     "text": [
      "Done Processing :  ONTX\n"
     ]
    },
    {
     "name": "stderr",
     "output_type": "stream",
     "text": [
      "130it [00:02, 50.94it/s]\n"
     ]
    },
    {
     "name": "stdout",
     "output_type": "stream",
     "text": [
      "Done Processing :  ORCL\n"
     ]
    },
    {
     "name": "stderr",
     "output_type": "stream",
     "text": [
      "130it [00:02, 51.36it/s]\n"
     ]
    },
    {
     "name": "stdout",
     "output_type": "stream",
     "text": [
      "Done Processing :  ORGS\n"
     ]
    },
    {
     "name": "stderr",
     "output_type": "stream",
     "text": [
      "130it [00:02, 52.73it/s]\n"
     ]
    },
    {
     "name": "stdout",
     "output_type": "stream",
     "text": [
      "Done Processing :  OTRK\n",
      "Not Enough Data For:  PCSA\n",
      "Not Enough Data For:  PEGR\n"
     ]
    },
    {
     "name": "stderr",
     "output_type": "stream",
     "text": [
      "130it [00:02, 50.62it/s]\n"
     ]
    },
    {
     "name": "stdout",
     "output_type": "stream",
     "text": [
      "Done Processing :  PEP\n",
      "Not Enough Data For:  PEPG\n"
     ]
    },
    {
     "name": "stderr",
     "output_type": "stream",
     "text": [
      "130it [00:02, 48.96it/s]\n"
     ]
    },
    {
     "name": "stdout",
     "output_type": "stream",
     "text": [
      "Done Processing :  PG\n",
      "Not Enough Data For:  PIK\n"
     ]
    },
    {
     "name": "stderr",
     "output_type": "stream",
     "text": [
      "130it [00:02, 47.05it/s]\n"
     ]
    },
    {
     "name": "stdout",
     "output_type": "stream",
     "text": [
      "Done Processing :  PLUG\n",
      "Not Enough Data For:  PMEC\n",
      "Not Enough Data For:  PMN\n"
     ]
    },
    {
     "name": "stderr",
     "output_type": "stream",
     "text": [
      "130it [00:02, 51.09it/s]\n"
     ]
    },
    {
     "name": "stdout",
     "output_type": "stream",
     "text": [
      "Done Processing :  PNBK\n"
     ]
    },
    {
     "name": "stderr",
     "output_type": "stream",
     "text": [
      "130it [00:02, 51.45it/s]\n"
     ]
    },
    {
     "name": "stdout",
     "output_type": "stream",
     "text": [
      "Done Processing :  POAI\n"
     ]
    },
    {
     "name": "stderr",
     "output_type": "stream",
     "text": [
      "130it [00:02, 52.27it/s]\n"
     ]
    },
    {
     "name": "stdout",
     "output_type": "stream",
     "text": [
      "Done Processing :  PPSI\n",
      "Not Enough Data For:  PRE\n",
      "Not Enough Data For:  PROP\n"
     ]
    },
    {
     "name": "stderr",
     "output_type": "stream",
     "text": [
      "130it [00:02, 51.74it/s]\n"
     ]
    },
    {
     "name": "stdout",
     "output_type": "stream",
     "text": [
      "Done Processing :  PRTA\n"
     ]
    },
    {
     "name": "stderr",
     "output_type": "stream",
     "text": [
      "130it [00:02, 51.64it/s]\n"
     ]
    },
    {
     "name": "stdout",
     "output_type": "stream",
     "text": [
      "Done Processing :  PRTG\n",
      "Not Enough Data For:  PTIX\n",
      "Not Enough Data For:  PTPI\n"
     ]
    },
    {
     "name": "stderr",
     "output_type": "stream",
     "text": [
      "130it [00:02, 46.44it/s]\n"
     ]
    },
    {
     "name": "stdout",
     "output_type": "stream",
     "text": [
      "Done Processing :  PVH\n",
      "Not Enough Data For:  PYXS\n"
     ]
    },
    {
     "name": "stderr",
     "output_type": "stream",
     "text": [
      "130it [00:02, 48.07it/s]\n"
     ]
    },
    {
     "name": "stdout",
     "output_type": "stream",
     "text": [
      "Done Processing :  QCOM\n"
     ]
    },
    {
     "name": "stderr",
     "output_type": "stream",
     "text": [
      "130it [00:02, 50.14it/s]\n"
     ]
    },
    {
     "name": "stdout",
     "output_type": "stream",
     "text": [
      "Done Processing :  QDEL\n",
      "Not Enough Data For:  QTRX\n",
      "Not Enough Data For:  RDDT\n",
      "Not Enough Data For:  ROIV\n",
      "Not Enough Data For:  RWOD\n",
      "Not Enough Data For:  RYDE\n",
      "Not Enough Data For:  SABR\n",
      "Not Enough Data For:  SABS\n",
      "Not Enough Data For:  SANA\n",
      "Not Enough Data For:  SBFM\n",
      "Not Enough Data For:  SDA\n"
     ]
    },
    {
     "name": "stderr",
     "output_type": "stream",
     "text": [
      "130it [00:02, 51.95it/s]\n"
     ]
    },
    {
     "name": "stdout",
     "output_type": "stream",
     "text": [
      "Done Processing :  SIGA\n",
      "Not Enough Data For:  SINT\n",
      "Not Enough Data For:  SKYX\n",
      "Not Enough Data For:  SLNA\n"
     ]
    },
    {
     "name": "stderr",
     "output_type": "stream",
     "text": [
      "130it [00:02, 51.27it/s]\n"
     ]
    },
    {
     "name": "stdout",
     "output_type": "stream",
     "text": [
      "Done Processing :  SLNH\n",
      "Not Enough Data For:  SMR\n",
      "Not Enough Data For:  SNAX\n"
     ]
    },
    {
     "name": "stderr",
     "output_type": "stream",
     "text": [
      "130it [00:02, 51.52it/s]\n"
     ]
    },
    {
     "name": "stdout",
     "output_type": "stream",
     "text": [
      "Done Processing :  SNBR\n",
      "Not Enough Data For:  SRTS\n"
     ]
    },
    {
     "name": "stderr",
     "output_type": "stream",
     "text": [
      "130it [00:02, 51.36it/s]\n"
     ]
    },
    {
     "name": "stdout",
     "output_type": "stream",
     "text": [
      "Done Processing :  SSKN\n"
     ]
    },
    {
     "name": "stderr",
     "output_type": "stream",
     "text": [
      "130it [00:02, 50.58it/s]\n"
     ]
    },
    {
     "name": "stdout",
     "output_type": "stream",
     "text": [
      "Done Processing :  SSP\n",
      "Not Enough Data For:  SST\n",
      "Not Enough Data For:  STI\n"
     ]
    },
    {
     "name": "stderr",
     "output_type": "stream",
     "text": [
      "130it [00:02, 51.09it/s]\n"
     ]
    },
    {
     "name": "stdout",
     "output_type": "stream",
     "text": [
      "Done Processing :  STXS\n",
      "Not Enough Data For:  SWI\n",
      "Not Enough Data For:  SWIN\n",
      "Not Enough Data For:  SWVL\n",
      "Not Enough Data For:  SYRS\n",
      "Not Enough Data For:  TCRX\n",
      "Not Enough Data For:  TFFP\n",
      "Not Enough Data For:  TGL\n",
      "Not Enough Data For:  TKNO\n",
      "Not Enough Data For:  TKO\n"
     ]
    },
    {
     "name": "stderr",
     "output_type": "stream",
     "text": [
      "130it [00:02, 51.88it/s]\n"
     ]
    },
    {
     "name": "stdout",
     "output_type": "stream",
     "text": [
      "Done Processing :  TMO\n"
     ]
    },
    {
     "name": "stderr",
     "output_type": "stream",
     "text": [
      "130it [00:02, 47.12it/s]\n"
     ]
    },
    {
     "name": "stdout",
     "output_type": "stream",
     "text": [
      "Done Processing :  TMUS\n",
      "Not Enough Data For:  TNYA\n",
      "Not Enough Data For:  TPET\n",
      "Not Enough Data For:  TPST\n"
     ]
    },
    {
     "name": "stderr",
     "output_type": "stream",
     "text": [
      "130it [00:02, 47.37it/s]\n"
     ]
    },
    {
     "name": "stdout",
     "output_type": "stream",
     "text": [
      "Done Processing :  TRVN\n"
     ]
    },
    {
     "name": "stderr",
     "output_type": "stream",
     "text": [
      "130it [00:02, 49.34it/s]\n"
     ]
    },
    {
     "name": "stdout",
     "output_type": "stream",
     "text": [
      "Done Processing :  TSLA\n",
      "Not Enough Data For:  TSVT\n",
      "Not Enough Data For:  TVGN\n",
      "Not Enough Data For:  UBXG\n"
     ]
    },
    {
     "name": "stderr",
     "output_type": "stream",
     "text": [
      "130it [00:02, 50.76it/s]\n"
     ]
    },
    {
     "name": "stdout",
     "output_type": "stream",
     "text": [
      "Done Processing :  UNH\n",
      "Not Enough Data For:  UP\n",
      "Not Enough Data For:  UPC\n",
      "Not Enough Data For:  USGO\n",
      "Not Enough Data For:  UWMC\n"
     ]
    },
    {
     "name": "stderr",
     "output_type": "stream",
     "text": [
      "130it [00:02, 53.29it/s]\n"
     ]
    },
    {
     "name": "stdout",
     "output_type": "stream",
     "text": [
      "Done Processing :  V\n",
      "Not Enough Data For:  VERI\n",
      "Not Enough Data For:  VERV\n",
      "Not Enough Data For:  VHAI\n",
      "Not Enough Data For:  VINC\n",
      "Not Enough Data For:  VLCN\n",
      "Not Enough Data For:  VLD\n",
      "Not Enough Data For:  VSTE\n"
     ]
    },
    {
     "name": "stderr",
     "output_type": "stream",
     "text": [
      "130it [00:02, 49.75it/s]\n"
     ]
    },
    {
     "name": "stdout",
     "output_type": "stream",
     "text": [
      "Done Processing :  VTSI\n",
      "Not Enough Data For:  VVPR\n"
     ]
    },
    {
     "name": "stderr",
     "output_type": "stream",
     "text": [
      "130it [00:02, 51.41it/s]\n"
     ]
    },
    {
     "name": "stdout",
     "output_type": "stream",
     "text": [
      "Done Processing :  VZ\n",
      "Not Enough Data For:  WALD\n"
     ]
    },
    {
     "name": "stderr",
     "output_type": "stream",
     "text": [
      "130it [00:02, 50.72it/s]\n"
     ]
    },
    {
     "name": "stdout",
     "output_type": "stream",
     "text": [
      "Done Processing :  WFC\n",
      "Not Enough Data For:  WINV\n"
     ]
    },
    {
     "name": "stderr",
     "output_type": "stream",
     "text": [
      "130it [00:02, 50.04it/s]\n"
     ]
    },
    {
     "name": "stdout",
     "output_type": "stream",
     "text": [
      "Done Processing :  WMT\n",
      "Not Enough Data For:  WORX\n",
      "Not Enough Data For:  XBIT\n"
     ]
    },
    {
     "name": "stderr",
     "output_type": "stream",
     "text": [
      "130it [00:02, 45.09it/s]\n"
     ]
    },
    {
     "name": "stdout",
     "output_type": "stream",
     "text": [
      "Done Processing :  XOM\n",
      "Not Enough Data For:  XOS\n",
      "Not Enough Data For:  XTIA\n"
     ]
    },
    {
     "name": "stderr",
     "output_type": "stream",
     "text": [
      "130it [00:02, 44.93it/s]\n"
     ]
    },
    {
     "name": "stdout",
     "output_type": "stream",
     "text": [
      "Done Processing :  XXII\n",
      "Not Enough Data For:  YMAB\n"
     ]
    },
    {
     "name": "stderr",
     "output_type": "stream",
     "text": [
      "130it [00:02, 50.05it/s]\n"
     ]
    },
    {
     "name": "stdout",
     "output_type": "stream",
     "text": [
      "Done Processing :  YTEN\n",
      "Not Enough Data For:  ZNTL\n",
      "Not Enough Data For:  ZPTA\n"
     ]
    }
   ],
   "source": [
    "#companies = [\"MSFT\",\"AAPL\",\"AMZN\"]\n",
    "indicators_features,prices= get_data(companies,selected_features,year_pred=NUM_OF_YEARS_PRED,year_data=NUM_OF_YEARS_DATA)"
   ]
  },
  {
   "cell_type": "code",
   "execution_count": 10,
   "metadata": {},
   "outputs": [],
   "source": [
    "features = pd.DataFrame(index=prices.index).sort_index()\n",
    "\n",
    "features['close_pct_chnage'] = prices.close.pct_change()\n",
    "features['volume_increase'] = np.where(prices.volume.shift(-1) > prices.volume, 1, 0)"
   ]
  },
  {
   "cell_type": "code",
   "execution_count": 11,
   "metadata": {},
   "outputs": [],
   "source": [
    "features = pd.DataFrame(index=prices.index).sort_index()\n",
    "features['f01'] = prices.close/prices.open-1 # daily return\n",
    "features['f02'] = prices.open/prices.groupby(level='symbol', group_keys=False).close.shift(1)-1 \n",
    "features['f03'] = prices.volume.apply(np.log) # log of daily volume\n",
    "features['f04'] = prices.groupby(level='symbol', group_keys=False).volume.diff() # change since prior day\n",
    "features['f05'] = prices.groupby(level='symbol', group_keys=False).volume.diff(50) # change since 50 days prior\n",
    "pct_chg_fxn = lambda x: x.pct_change()\n",
    "features['f06'] = prices.groupby(level='symbol', group_keys=False).volume.apply(pct_chg_fxn) # rate of change\n",
    "# exponential moving avg of daily volume\n",
    "# log of 5 day moving average of volume\n",
    "ma_5 = lambda x: x.rolling(5).mean()\n",
    "features['f07'] = prices.volume.groupby(level='symbol', group_keys=False).apply(ma_5).apply(np.log) \n",
    "# daily closing price vs. 10 day \n",
    "ema_10 = lambda x: x.ewm(span=10).mean()\n",
    "features['f08'] = prices.close/ prices.close.groupby(level='symbol', group_keys=False).apply(ema_10)-1\n",
    "# daily volume vs. 20 day moving average\n",
    "ma_20 = lambda x: x.rolling(20).mean()\n",
    "features['f09'] = prices.volume/ prices.volume.groupby(level='symbol', group_keys=False).apply(ma_20)-1\n",
    "# daily volume vs. 40 day moving average\n",
    "ma_40 = lambda x: x.rolling(40).mean()\n",
    "features['f10'] = prices.volume/ prices.volume.groupby(level='symbol', group_keys=False).apply(ma_40)-1\n",
    "# daily volume vs. 80 day moving average\n",
    "ma_80 = lambda x: x.rolling(80).mean()\n",
    "features['f11'] = prices.volume/ prices.volume.groupby(level='symbol', group_keys=False).apply(ma_80)-1\n",
    "# daily volume vs. 160 day moving average\n",
    "ma_160 = lambda x: x.rolling(160).mean()\n",
    "features['f12'] = prices.volume/ prices.volume.groupby(level='symbol', group_keys=False).apply(ma_160)-1\n",
    "# daily volume vs. 320 day moving average\n",
    "ma_320 = lambda x: x.rolling(320).mean()\n",
    "features['f12'] = prices.volume/ prices.volume.groupby(level='symbol', group_keys=False).apply(ma_320)-1\n",
    "\n",
    "zscore_fun = lambda x: (x - x.rolling(window=200, min_periods=20).mean()) / x.rolling(window=200, min_periods=20).std()\n",
    "features['f13'] =prices.groupby(level='symbol', group_keys=False).close.apply(zscore_fun)\n",
    "\n",
    "rollrank_fxn = lambda x: x.rolling(200,min_periods=20).apply(lambda x: pd.Series(x).rank(pct=True)[0])\n",
    "features['f14'] = prices.groupby(level='symbol', group_keys=False).volume.apply(rollrank_fxn)\n",
    "\n",
    "features['f15'] = features['f11'].dropna().groupby(level='date').rank(pct=True) \n",
    "features['f16'] = features['f12'].dropna().groupby(level='date').rank(pct=True)\n",
    "\n",
    "# money flow index (14 day)\n",
    "features['f17'] = ta.volume.mfi(prices.high, prices.low, prices.close,prices.volume, window=14, fillna=False).astype(float)\n",
    "# mean-centered money flow index\n",
    "features['f18'] = features['f13'] - features['f13'].rolling(200,min_periods=20).mean()\n",
    "\n",
    "#features.replace([np.inf, -np.inf], np.nan, inplace=True)\n",
    "#n_bins = 10\n",
    "#bin_fxn = lambda y: pd.qcut(y,q=n_bins,labels = range(1,n_bins+1))\n",
    "#features['f19'] = prices.volume.groupby(level='symbol', group_keys=False).apply(bin_fxn)\n",
    "\n",
    "features['f20'] = features['f06'].apply(np.sign)\n",
    "\n",
    "plus_minus_fxn = lambda x: x.rolling(20).sum()\n",
    "features['f21'] = features['f20'].groupby(level='symbol', group_keys=False).apply(plus_minus_fxn)"
   ]
  },
  {
   "cell_type": "code",
   "execution_count": 12,
   "metadata": {},
   "outputs": [
    {
     "data": {
      "text/html": [
       "<div>\n",
       "<style scoped>\n",
       "    .dataframe tbody tr th:only-of-type {\n",
       "        vertical-align: middle;\n",
       "    }\n",
       "\n",
       "    .dataframe tbody tr th {\n",
       "        vertical-align: top;\n",
       "    }\n",
       "\n",
       "    .dataframe thead th {\n",
       "        text-align: right;\n",
       "    }\n",
       "</style>\n",
       "<table border=\"1\" class=\"dataframe\">\n",
       "  <thead>\n",
       "    <tr style=\"text-align: right;\">\n",
       "      <th></th>\n",
       "      <th></th>\n",
       "      <th>f01</th>\n",
       "      <th>f02</th>\n",
       "      <th>f03</th>\n",
       "      <th>f04</th>\n",
       "      <th>f05</th>\n",
       "      <th>f06</th>\n",
       "      <th>f07</th>\n",
       "      <th>f08</th>\n",
       "      <th>f09</th>\n",
       "      <th>f10</th>\n",
       "      <th>...</th>\n",
       "      <th>month_3</th>\n",
       "      <th>month_4</th>\n",
       "      <th>month_5</th>\n",
       "      <th>month_6</th>\n",
       "      <th>month_7</th>\n",
       "      <th>month_8</th>\n",
       "      <th>month_9</th>\n",
       "      <th>month_10</th>\n",
       "      <th>month_11</th>\n",
       "      <th>month_12</th>\n",
       "    </tr>\n",
       "    <tr>\n",
       "      <th>date</th>\n",
       "      <th>symbol</th>\n",
       "      <th></th>\n",
       "      <th></th>\n",
       "      <th></th>\n",
       "      <th></th>\n",
       "      <th></th>\n",
       "      <th></th>\n",
       "      <th></th>\n",
       "      <th></th>\n",
       "      <th></th>\n",
       "      <th></th>\n",
       "      <th></th>\n",
       "      <th></th>\n",
       "      <th></th>\n",
       "      <th></th>\n",
       "      <th></th>\n",
       "      <th></th>\n",
       "      <th></th>\n",
       "      <th></th>\n",
       "      <th></th>\n",
       "      <th></th>\n",
       "      <th></th>\n",
       "    </tr>\n",
       "  </thead>\n",
       "  <tbody>\n",
       "    <tr>\n",
       "      <th rowspan=\"5\" valign=\"top\">2014-02-04 00:00:00-05:00</th>\n",
       "      <th>AA</th>\n",
       "      <td>0.016874</td>\n",
       "      <td>NaN</td>\n",
       "      <td>15.929367</td>\n",
       "      <td>NaN</td>\n",
       "      <td>NaN</td>\n",
       "      <td>NaN</td>\n",
       "      <td>NaN</td>\n",
       "      <td>0.000000</td>\n",
       "      <td>NaN</td>\n",
       "      <td>NaN</td>\n",
       "      <td>...</td>\n",
       "      <td>0</td>\n",
       "      <td>0</td>\n",
       "      <td>0</td>\n",
       "      <td>0</td>\n",
       "      <td>0</td>\n",
       "      <td>0</td>\n",
       "      <td>0</td>\n",
       "      <td>0</td>\n",
       "      <td>0</td>\n",
       "      <td>0</td>\n",
       "    </tr>\n",
       "    <tr>\n",
       "      <th>AAME</th>\n",
       "      <td>0.000000</td>\n",
       "      <td>NaN</td>\n",
       "      <td>8.594154</td>\n",
       "      <td>NaN</td>\n",
       "      <td>NaN</td>\n",
       "      <td>NaN</td>\n",
       "      <td>NaN</td>\n",
       "      <td>0.000000</td>\n",
       "      <td>NaN</td>\n",
       "      <td>NaN</td>\n",
       "      <td>...</td>\n",
       "      <td>0</td>\n",
       "      <td>0</td>\n",
       "      <td>0</td>\n",
       "      <td>0</td>\n",
       "      <td>0</td>\n",
       "      <td>0</td>\n",
       "      <td>0</td>\n",
       "      <td>0</td>\n",
       "      <td>0</td>\n",
       "      <td>0</td>\n",
       "    </tr>\n",
       "    <tr>\n",
       "      <th>AAPL</th>\n",
       "      <td>0.005812</td>\n",
       "      <td>NaN</td>\n",
       "      <td>19.746910</td>\n",
       "      <td>NaN</td>\n",
       "      <td>NaN</td>\n",
       "      <td>NaN</td>\n",
       "      <td>NaN</td>\n",
       "      <td>0.000000</td>\n",
       "      <td>NaN</td>\n",
       "      <td>NaN</td>\n",
       "      <td>...</td>\n",
       "      <td>0</td>\n",
       "      <td>0</td>\n",
       "      <td>0</td>\n",
       "      <td>0</td>\n",
       "      <td>0</td>\n",
       "      <td>0</td>\n",
       "      <td>0</td>\n",
       "      <td>0</td>\n",
       "      <td>0</td>\n",
       "      <td>0</td>\n",
       "    </tr>\n",
       "    <tr>\n",
       "      <th>ABBV</th>\n",
       "      <td>0.016320</td>\n",
       "      <td>NaN</td>\n",
       "      <td>16.077909</td>\n",
       "      <td>NaN</td>\n",
       "      <td>NaN</td>\n",
       "      <td>NaN</td>\n",
       "      <td>NaN</td>\n",
       "      <td>0.000000</td>\n",
       "      <td>NaN</td>\n",
       "      <td>NaN</td>\n",
       "      <td>...</td>\n",
       "      <td>0</td>\n",
       "      <td>0</td>\n",
       "      <td>0</td>\n",
       "      <td>0</td>\n",
       "      <td>0</td>\n",
       "      <td>0</td>\n",
       "      <td>0</td>\n",
       "      <td>0</td>\n",
       "      <td>0</td>\n",
       "      <td>0</td>\n",
       "    </tr>\n",
       "    <tr>\n",
       "      <th>ABT</th>\n",
       "      <td>0.009749</td>\n",
       "      <td>NaN</td>\n",
       "      <td>15.924195</td>\n",
       "      <td>NaN</td>\n",
       "      <td>NaN</td>\n",
       "      <td>NaN</td>\n",
       "      <td>NaN</td>\n",
       "      <td>0.000000</td>\n",
       "      <td>NaN</td>\n",
       "      <td>NaN</td>\n",
       "      <td>...</td>\n",
       "      <td>0</td>\n",
       "      <td>0</td>\n",
       "      <td>0</td>\n",
       "      <td>0</td>\n",
       "      <td>0</td>\n",
       "      <td>0</td>\n",
       "      <td>0</td>\n",
       "      <td>0</td>\n",
       "      <td>0</td>\n",
       "      <td>0</td>\n",
       "    </tr>\n",
       "    <tr>\n",
       "      <th>...</th>\n",
       "      <th>...</th>\n",
       "      <td>...</td>\n",
       "      <td>...</td>\n",
       "      <td>...</td>\n",
       "      <td>...</td>\n",
       "      <td>...</td>\n",
       "      <td>...</td>\n",
       "      <td>...</td>\n",
       "      <td>...</td>\n",
       "      <td>...</td>\n",
       "      <td>...</td>\n",
       "      <td>...</td>\n",
       "      <td>...</td>\n",
       "      <td>...</td>\n",
       "      <td>...</td>\n",
       "      <td>...</td>\n",
       "      <td>...</td>\n",
       "      <td>...</td>\n",
       "      <td>...</td>\n",
       "      <td>...</td>\n",
       "      <td>...</td>\n",
       "      <td>...</td>\n",
       "    </tr>\n",
       "    <tr>\n",
       "      <th rowspan=\"5\" valign=\"top\">2024-04-02 00:00:00-04:00</th>\n",
       "      <th>WFC</th>\n",
       "      <td>-0.000174</td>\n",
       "      <td>-0.004340</td>\n",
       "      <td>16.498715</td>\n",
       "      <td>3592400.0</td>\n",
       "      <td>-10970500.0</td>\n",
       "      <td>0.325413</td>\n",
       "      <td>16.388109</td>\n",
       "      <td>0.000092</td>\n",
       "      <td>-0.214695</td>\n",
       "      <td>-0.228185</td>\n",
       "      <td>...</td>\n",
       "      <td>0</td>\n",
       "      <td>1</td>\n",
       "      <td>0</td>\n",
       "      <td>0</td>\n",
       "      <td>0</td>\n",
       "      <td>0</td>\n",
       "      <td>0</td>\n",
       "      <td>0</td>\n",
       "      <td>0</td>\n",
       "      <td>0</td>\n",
       "    </tr>\n",
       "    <tr>\n",
       "      <th>WMT</th>\n",
       "      <td>-0.012354</td>\n",
       "      <td>-0.001667</td>\n",
       "      <td>16.786279</td>\n",
       "      <td>5669300.0</td>\n",
       "      <td>331500.0</td>\n",
       "      <td>0.409703</td>\n",
       "      <td>16.575284</td>\n",
       "      <td>-0.018246</td>\n",
       "      <td>0.155908</td>\n",
       "      <td>-0.085626</td>\n",
       "      <td>...</td>\n",
       "      <td>0</td>\n",
       "      <td>1</td>\n",
       "      <td>0</td>\n",
       "      <td>0</td>\n",
       "      <td>0</td>\n",
       "      <td>0</td>\n",
       "      <td>0</td>\n",
       "      <td>0</td>\n",
       "      <td>0</td>\n",
       "      <td>0</td>\n",
       "    </tr>\n",
       "    <tr>\n",
       "      <th>XOM</th>\n",
       "      <td>0.011533</td>\n",
       "      <td>0.007949</td>\n",
       "      <td>16.806813</td>\n",
       "      <td>6094600.0</td>\n",
       "      <td>-167700.0</td>\n",
       "      <td>0.441094</td>\n",
       "      <td>16.559940</td>\n",
       "      <td>0.036726</td>\n",
       "      <td>0.134338</td>\n",
       "      <td>0.125970</td>\n",
       "      <td>...</td>\n",
       "      <td>0</td>\n",
       "      <td>1</td>\n",
       "      <td>0</td>\n",
       "      <td>0</td>\n",
       "      <td>0</td>\n",
       "      <td>0</td>\n",
       "      <td>0</td>\n",
       "      <td>0</td>\n",
       "      <td>0</td>\n",
       "      <td>0</td>\n",
       "    </tr>\n",
       "    <tr>\n",
       "      <th>XXII</th>\n",
       "      <td>-0.044335</td>\n",
       "      <td>0.112451</td>\n",
       "      <td>12.196083</td>\n",
       "      <td>107180.0</td>\n",
       "      <td>132404.0</td>\n",
       "      <td>1.179981</td>\n",
       "      <td>11.874178</td>\n",
       "      <td>-0.040442</td>\n",
       "      <td>1.193814</td>\n",
       "      <td>1.592689</td>\n",
       "      <td>...</td>\n",
       "      <td>0</td>\n",
       "      <td>1</td>\n",
       "      <td>0</td>\n",
       "      <td>0</td>\n",
       "      <td>0</td>\n",
       "      <td>0</td>\n",
       "      <td>0</td>\n",
       "      <td>0</td>\n",
       "      <td>0</td>\n",
       "      <td>0</td>\n",
       "    </tr>\n",
       "    <tr>\n",
       "      <th>YTEN</th>\n",
       "      <td>-0.352941</td>\n",
       "      <td>-0.105263</td>\n",
       "      <td>14.776430</td>\n",
       "      <td>-317500.0</td>\n",
       "      <td>2504000.0</td>\n",
       "      <td>-0.108303</td>\n",
       "      <td>14.654238</td>\n",
       "      <td>-0.317242</td>\n",
       "      <td>-0.620701</td>\n",
       "      <td>-0.631749</td>\n",
       "      <td>...</td>\n",
       "      <td>0</td>\n",
       "      <td>1</td>\n",
       "      <td>0</td>\n",
       "      <td>0</td>\n",
       "      <td>0</td>\n",
       "      <td>0</td>\n",
       "      <td>0</td>\n",
       "      <td>0</td>\n",
       "      <td>0</td>\n",
       "      <td>0</td>\n",
       "    </tr>\n",
       "  </tbody>\n",
       "</table>\n",
       "<p>306840 rows × 32 columns</p>\n",
       "</div>"
      ],
      "text/plain": [
       "                                       f01       f02        f03        f04  \\\n",
       "date                      symbol                                             \n",
       "2014-02-04 00:00:00-05:00 AA      0.016874       NaN  15.929367        NaN   \n",
       "                          AAME    0.000000       NaN   8.594154        NaN   \n",
       "                          AAPL    0.005812       NaN  19.746910        NaN   \n",
       "                          ABBV    0.016320       NaN  16.077909        NaN   \n",
       "                          ABT     0.009749       NaN  15.924195        NaN   \n",
       "...                                    ...       ...        ...        ...   \n",
       "2024-04-02 00:00:00-04:00 WFC    -0.000174 -0.004340  16.498715  3592400.0   \n",
       "                          WMT    -0.012354 -0.001667  16.786279  5669300.0   \n",
       "                          XOM     0.011533  0.007949  16.806813  6094600.0   \n",
       "                          XXII   -0.044335  0.112451  12.196083   107180.0   \n",
       "                          YTEN   -0.352941 -0.105263  14.776430  -317500.0   \n",
       "\n",
       "                                         f05       f06        f07       f08  \\\n",
       "date                      symbol                                              \n",
       "2014-02-04 00:00:00-05:00 AA             NaN       NaN        NaN  0.000000   \n",
       "                          AAME           NaN       NaN        NaN  0.000000   \n",
       "                          AAPL           NaN       NaN        NaN  0.000000   \n",
       "                          ABBV           NaN       NaN        NaN  0.000000   \n",
       "                          ABT            NaN       NaN        NaN  0.000000   \n",
       "...                                      ...       ...        ...       ...   \n",
       "2024-04-02 00:00:00-04:00 WFC    -10970500.0  0.325413  16.388109  0.000092   \n",
       "                          WMT       331500.0  0.409703  16.575284 -0.018246   \n",
       "                          XOM      -167700.0  0.441094  16.559940  0.036726   \n",
       "                          XXII      132404.0  1.179981  11.874178 -0.040442   \n",
       "                          YTEN     2504000.0 -0.108303  14.654238 -0.317242   \n",
       "\n",
       "                                       f09       f10  ...  month_3  month_4  \\\n",
       "date                      symbol                      ...                     \n",
       "2014-02-04 00:00:00-05:00 AA           NaN       NaN  ...        0        0   \n",
       "                          AAME         NaN       NaN  ...        0        0   \n",
       "                          AAPL         NaN       NaN  ...        0        0   \n",
       "                          ABBV         NaN       NaN  ...        0        0   \n",
       "                          ABT          NaN       NaN  ...        0        0   \n",
       "...                                    ...       ...  ...      ...      ...   \n",
       "2024-04-02 00:00:00-04:00 WFC    -0.214695 -0.228185  ...        0        1   \n",
       "                          WMT     0.155908 -0.085626  ...        0        1   \n",
       "                          XOM     0.134338  0.125970  ...        0        1   \n",
       "                          XXII    1.193814  1.592689  ...        0        1   \n",
       "                          YTEN   -0.620701 -0.631749  ...        0        1   \n",
       "\n",
       "                                  month_5  month_6  month_7  month_8  month_9  \\\n",
       "date                      symbol                                                \n",
       "2014-02-04 00:00:00-05:00 AA            0        0        0        0        0   \n",
       "                          AAME          0        0        0        0        0   \n",
       "                          AAPL          0        0        0        0        0   \n",
       "                          ABBV          0        0        0        0        0   \n",
       "                          ABT           0        0        0        0        0   \n",
       "...                                   ...      ...      ...      ...      ...   \n",
       "2024-04-02 00:00:00-04:00 WFC           0        0        0        0        0   \n",
       "                          WMT           0        0        0        0        0   \n",
       "                          XOM           0        0        0        0        0   \n",
       "                          XXII          0        0        0        0        0   \n",
       "                          YTEN          0        0        0        0        0   \n",
       "\n",
       "                                  month_10  month_11  month_12  \n",
       "date                      symbol                                \n",
       "2014-02-04 00:00:00-05:00 AA             0         0         0  \n",
       "                          AAME           0         0         0  \n",
       "                          AAPL           0         0         0  \n",
       "                          ABBV           0         0         0  \n",
       "                          ABT            0         0         0  \n",
       "...                                    ...       ...       ...  \n",
       "2024-04-02 00:00:00-04:00 WFC            0         0         0  \n",
       "                          WMT            0         0         0  \n",
       "                          XOM            0         0         0  \n",
       "                          XXII           0         0         0  \n",
       "                          YTEN           0         0         0  \n",
       "\n",
       "[306840 rows x 32 columns]"
      ]
     },
     "execution_count": 12,
     "metadata": {},
     "output_type": "execute_result"
    }
   ],
   "source": [
    "month_of_year = prices.index.get_level_values(level='date').month\n",
    "one_hot_frame = pd.DataFrame(pd.get_dummies(month_of_year, dtype=int))\n",
    "one_hot_frame.index = prices.index\n",
    "# create column names \n",
    "feat_names = ['month_'+str(num) for num in list(range(1,1+12))]\n",
    "\n",
    "# rename columns and merge\n",
    "one_hot_frame.columns = feat_names\n",
    "\n",
    "features = features.join(one_hot_frame)\n",
    "\n",
    "features.replace([np.inf, -np.inf], np.nan, inplace=True)\n",
    "\n",
    "features"
   ]
  },
  {
   "cell_type": "code",
   "execution_count": 13,
   "metadata": {},
   "outputs": [],
   "source": [
    "features = pd.concat([features,indicators_features],axis=1)\n",
    "features.reset_index(level='symbol',inplace=True)\n",
    "def interp_func(x):\n",
    "    for col in x.columns.difference(['date','symbol','f19']):\n",
    "        x[col].interpolate(method=\"time\",limit_direction=\"both\",inplace=True)\n",
    "        x[col].ffill(inplace=True)\n",
    "    return x\n",
    "\n",
    "features = features.groupby('symbol', group_keys=False).apply(interp_func)\n",
    "features.set_index([features.index,'symbol'],inplace=True)"
   ]
  },
  {
   "cell_type": "code",
   "execution_count": 14,
   "metadata": {},
   "outputs": [
    {
     "data": {
      "text/html": [
       "<div>\n",
       "<style scoped>\n",
       "    .dataframe tbody tr th:only-of-type {\n",
       "        vertical-align: middle;\n",
       "    }\n",
       "\n",
       "    .dataframe tbody tr th {\n",
       "        vertical-align: top;\n",
       "    }\n",
       "\n",
       "    .dataframe thead th {\n",
       "        text-align: right;\n",
       "    }\n",
       "</style>\n",
       "<table border=\"1\" class=\"dataframe\">\n",
       "  <thead>\n",
       "    <tr style=\"text-align: right;\">\n",
       "      <th></th>\n",
       "      <th></th>\n",
       "      <th>f01</th>\n",
       "      <th>f02</th>\n",
       "      <th>f03</th>\n",
       "      <th>f04</th>\n",
       "      <th>f05</th>\n",
       "      <th>f06</th>\n",
       "      <th>f07</th>\n",
       "      <th>f08</th>\n",
       "      <th>f09</th>\n",
       "      <th>f10</th>\n",
       "      <th>...</th>\n",
       "      <th>VIDYA_14</th>\n",
       "      <th>VTXP_14</th>\n",
       "      <th>VTXM_14</th>\n",
       "      <th>VWAP_D</th>\n",
       "      <th>VWMA_10</th>\n",
       "      <th>WCP</th>\n",
       "      <th>WILLR_14</th>\n",
       "      <th>WMA_10</th>\n",
       "      <th>ZL_EMA_10</th>\n",
       "      <th>ZS_30</th>\n",
       "    </tr>\n",
       "    <tr>\n",
       "      <th>date</th>\n",
       "      <th>symbol</th>\n",
       "      <th></th>\n",
       "      <th></th>\n",
       "      <th></th>\n",
       "      <th></th>\n",
       "      <th></th>\n",
       "      <th></th>\n",
       "      <th></th>\n",
       "      <th></th>\n",
       "      <th></th>\n",
       "      <th></th>\n",
       "      <th></th>\n",
       "      <th></th>\n",
       "      <th></th>\n",
       "      <th></th>\n",
       "      <th></th>\n",
       "      <th></th>\n",
       "      <th></th>\n",
       "      <th></th>\n",
       "      <th></th>\n",
       "      <th></th>\n",
       "      <th></th>\n",
       "    </tr>\n",
       "  </thead>\n",
       "  <tbody>\n",
       "    <tr>\n",
       "      <th rowspan=\"5\" valign=\"top\">2014-02-04 00:00:00-05:00</th>\n",
       "      <th>AA</th>\n",
       "      <td>0.016874</td>\n",
       "      <td>-0.000876</td>\n",
       "      <td>15.929367</td>\n",
       "      <td>6917354.0</td>\n",
       "      <td>7052934.0</td>\n",
       "      <td>0.835418</td>\n",
       "      <td>16.083051</td>\n",
       "      <td>0.000000</td>\n",
       "      <td>-0.093025</td>\n",
       "      <td>0.061188</td>\n",
       "      <td>...</td>\n",
       "      <td>0.391431</td>\n",
       "      <td>1.069953</td>\n",
       "      <td>0.911178</td>\n",
       "      <td>25.838484</td>\n",
       "      <td>25.502111</td>\n",
       "      <td>25.870613</td>\n",
       "      <td>-19.658258</td>\n",
       "      <td>25.678018</td>\n",
       "      <td>26.651419</td>\n",
       "      <td>0.889937</td>\n",
       "    </tr>\n",
       "    <tr>\n",
       "      <th>AAME</th>\n",
       "      <td>0.000000</td>\n",
       "      <td>-0.002532</td>\n",
       "      <td>8.594154</td>\n",
       "      <td>100.0</td>\n",
       "      <td>800.0</td>\n",
       "      <td>0.018519</td>\n",
       "      <td>8.416267</td>\n",
       "      <td>0.000000</td>\n",
       "      <td>1.699690</td>\n",
       "      <td>0.269009</td>\n",
       "      <td>...</td>\n",
       "      <td>0.049315</td>\n",
       "      <td>0.928571</td>\n",
       "      <td>1.000000</td>\n",
       "      <td>3.723672</td>\n",
       "      <td>3.716326</td>\n",
       "      <td>3.722104</td>\n",
       "      <td>-85.714313</td>\n",
       "      <td>3.713634</td>\n",
       "      <td>3.706105</td>\n",
       "      <td>-2.527300</td>\n",
       "    </tr>\n",
       "    <tr>\n",
       "      <th>AAPL</th>\n",
       "      <td>0.005812</td>\n",
       "      <td>-0.004383</td>\n",
       "      <td>19.746910</td>\n",
       "      <td>-48336400.0</td>\n",
       "      <td>-161915600.0</td>\n",
       "      <td>-0.128322</td>\n",
       "      <td>19.631806</td>\n",
       "      <td>0.000000</td>\n",
       "      <td>-0.132850</td>\n",
       "      <td>-0.248186</td>\n",
       "      <td>...</td>\n",
       "      <td>0.511884</td>\n",
       "      <td>1.112036</td>\n",
       "      <td>0.816118</td>\n",
       "      <td>15.854253</td>\n",
       "      <td>16.585526</td>\n",
       "      <td>15.868221</td>\n",
       "      <td>-45.973160</td>\n",
       "      <td>16.852452</td>\n",
       "      <td>17.082871</td>\n",
       "      <td>0.269548</td>\n",
       "    </tr>\n",
       "    <tr>\n",
       "      <th>ABBV</th>\n",
       "      <td>0.016320</td>\n",
       "      <td>-0.003962</td>\n",
       "      <td>16.077909</td>\n",
       "      <td>-2619000.0</td>\n",
       "      <td>-2455100.0</td>\n",
       "      <td>-0.272639</td>\n",
       "      <td>15.801685</td>\n",
       "      <td>0.000000</td>\n",
       "      <td>0.004563</td>\n",
       "      <td>-0.282135</td>\n",
       "      <td>...</td>\n",
       "      <td>1.924995</td>\n",
       "      <td>1.249115</td>\n",
       "      <td>0.772887</td>\n",
       "      <td>31.564819</td>\n",
       "      <td>32.687138</td>\n",
       "      <td>31.618948</td>\n",
       "      <td>-24.418401</td>\n",
       "      <td>33.216730</td>\n",
       "      <td>34.445149</td>\n",
       "      <td>1.862278</td>\n",
       "    </tr>\n",
       "    <tr>\n",
       "      <th>ABT</th>\n",
       "      <td>0.009749</td>\n",
       "      <td>-0.003586</td>\n",
       "      <td>15.924195</td>\n",
       "      <td>-640100.0</td>\n",
       "      <td>2715900.0</td>\n",
       "      <td>-0.077707</td>\n",
       "      <td>16.098960</td>\n",
       "      <td>0.000000</td>\n",
       "      <td>0.081223</td>\n",
       "      <td>-0.334580</td>\n",
       "      <td>...</td>\n",
       "      <td>3.558886</td>\n",
       "      <td>1.370416</td>\n",
       "      <td>0.619804</td>\n",
       "      <td>29.853205</td>\n",
       "      <td>30.974900</td>\n",
       "      <td>29.867645</td>\n",
       "      <td>-13.055529</td>\n",
       "      <td>31.464306</td>\n",
       "      <td>32.544776</td>\n",
       "      <td>0.829844</td>\n",
       "    </tr>\n",
       "    <tr>\n",
       "      <th>...</th>\n",
       "      <th>...</th>\n",
       "      <td>...</td>\n",
       "      <td>...</td>\n",
       "      <td>...</td>\n",
       "      <td>...</td>\n",
       "      <td>...</td>\n",
       "      <td>...</td>\n",
       "      <td>...</td>\n",
       "      <td>...</td>\n",
       "      <td>...</td>\n",
       "      <td>...</td>\n",
       "      <td>...</td>\n",
       "      <td>...</td>\n",
       "      <td>...</td>\n",
       "      <td>...</td>\n",
       "      <td>...</td>\n",
       "      <td>...</td>\n",
       "      <td>...</td>\n",
       "      <td>...</td>\n",
       "      <td>...</td>\n",
       "      <td>...</td>\n",
       "      <td>...</td>\n",
       "    </tr>\n",
       "    <tr>\n",
       "      <th rowspan=\"5\" valign=\"top\">2024-04-02 00:00:00-04:00</th>\n",
       "      <th>WFC</th>\n",
       "      <td>-0.000174</td>\n",
       "      <td>-0.004340</td>\n",
       "      <td>16.498715</td>\n",
       "      <td>3592400.0</td>\n",
       "      <td>-10970500.0</td>\n",
       "      <td>0.325413</td>\n",
       "      <td>16.388109</td>\n",
       "      <td>0.000092</td>\n",
       "      <td>-0.214695</td>\n",
       "      <td>-0.228185</td>\n",
       "      <td>...</td>\n",
       "      <td>55.758652</td>\n",
       "      <td>0.988263</td>\n",
       "      <td>0.989828</td>\n",
       "      <td>57.513332</td>\n",
       "      <td>57.339015</td>\n",
       "      <td>57.472499</td>\n",
       "      <td>-50.462974</td>\n",
       "      <td>57.388182</td>\n",
       "      <td>57.660983</td>\n",
       "      <td>0.650365</td>\n",
       "    </tr>\n",
       "    <tr>\n",
       "      <th>WMT</th>\n",
       "      <td>-0.012354</td>\n",
       "      <td>-0.001667</td>\n",
       "      <td>16.786279</td>\n",
       "      <td>5669300.0</td>\n",
       "      <td>331500.0</td>\n",
       "      <td>0.409703</td>\n",
       "      <td>16.575284</td>\n",
       "      <td>-0.018246</td>\n",
       "      <td>0.155908</td>\n",
       "      <td>-0.085626</td>\n",
       "      <td>...</td>\n",
       "      <td>59.133032</td>\n",
       "      <td>0.834972</td>\n",
       "      <td>1.133047</td>\n",
       "      <td>59.380000</td>\n",
       "      <td>60.484668</td>\n",
       "      <td>59.325000</td>\n",
       "      <td>-89.928097</td>\n",
       "      <td>60.274727</td>\n",
       "      <td>59.805278</td>\n",
       "      <td>-0.750436</td>\n",
       "    </tr>\n",
       "    <tr>\n",
       "      <th>XOM</th>\n",
       "      <td>0.011533</td>\n",
       "      <td>0.007949</td>\n",
       "      <td>16.806813</td>\n",
       "      <td>6094600.0</td>\n",
       "      <td>-167700.0</td>\n",
       "      <td>0.441094</td>\n",
       "      <td>16.559940</td>\n",
       "      <td>0.036726</td>\n",
       "      <td>0.134338</td>\n",
       "      <td>0.125970</td>\n",
       "      <td>...</td>\n",
       "      <td>111.881339</td>\n",
       "      <td>1.320778</td>\n",
       "      <td>0.509945</td>\n",
       "      <td>118.736666</td>\n",
       "      <td>115.058868</td>\n",
       "      <td>118.872499</td>\n",
       "      <td>-3.050522</td>\n",
       "      <td>115.816545</td>\n",
       "      <td>117.714625</td>\n",
       "      <td>2.128368</td>\n",
       "    </tr>\n",
       "    <tr>\n",
       "      <th>XXII</th>\n",
       "      <td>-0.044335</td>\n",
       "      <td>0.112451</td>\n",
       "      <td>12.196083</td>\n",
       "      <td>107180.0</td>\n",
       "      <td>132404.0</td>\n",
       "      <td>1.179981</td>\n",
       "      <td>11.874178</td>\n",
       "      <td>-0.040442</td>\n",
       "      <td>1.193814</td>\n",
       "      <td>1.592689</td>\n",
       "      <td>...</td>\n",
       "      <td>2.738130</td>\n",
       "      <td>0.892307</td>\n",
       "      <td>1.014902</td>\n",
       "      <td>1.955367</td>\n",
       "      <td>2.016870</td>\n",
       "      <td>1.951525</td>\n",
       "      <td>-62.527463</td>\n",
       "      <td>2.008131</td>\n",
       "      <td>1.913841</td>\n",
       "      <td>-1.297085</td>\n",
       "    </tr>\n",
       "    <tr>\n",
       "      <th>YTEN</th>\n",
       "      <td>-0.352941</td>\n",
       "      <td>-0.105263</td>\n",
       "      <td>14.776430</td>\n",
       "      <td>-317500.0</td>\n",
       "      <td>2504000.0</td>\n",
       "      <td>-0.108303</td>\n",
       "      <td>14.654238</td>\n",
       "      <td>-0.317242</td>\n",
       "      <td>-0.620701</td>\n",
       "      <td>-0.631749</td>\n",
       "      <td>...</td>\n",
       "      <td>0.303951</td>\n",
       "      <td>0.824000</td>\n",
       "      <td>0.992000</td>\n",
       "      <td>0.263333</td>\n",
       "      <td>0.418931</td>\n",
       "      <td>0.252500</td>\n",
       "      <td>-100.000000</td>\n",
       "      <td>0.339818</td>\n",
       "      <td>0.328460</td>\n",
       "      <td>-1.132549</td>\n",
       "    </tr>\n",
       "  </tbody>\n",
       "</table>\n",
       "<p>306840 rows × 308 columns</p>\n",
       "</div>"
      ],
      "text/plain": [
       "                                       f01       f02        f03         f04  \\\n",
       "date                      symbol                                              \n",
       "2014-02-04 00:00:00-05:00 AA      0.016874 -0.000876  15.929367   6917354.0   \n",
       "                          AAME    0.000000 -0.002532   8.594154       100.0   \n",
       "                          AAPL    0.005812 -0.004383  19.746910 -48336400.0   \n",
       "                          ABBV    0.016320 -0.003962  16.077909  -2619000.0   \n",
       "                          ABT     0.009749 -0.003586  15.924195   -640100.0   \n",
       "...                                    ...       ...        ...         ...   \n",
       "2024-04-02 00:00:00-04:00 WFC    -0.000174 -0.004340  16.498715   3592400.0   \n",
       "                          WMT    -0.012354 -0.001667  16.786279   5669300.0   \n",
       "                          XOM     0.011533  0.007949  16.806813   6094600.0   \n",
       "                          XXII   -0.044335  0.112451  12.196083    107180.0   \n",
       "                          YTEN   -0.352941 -0.105263  14.776430   -317500.0   \n",
       "\n",
       "                                          f05       f06        f07       f08  \\\n",
       "date                      symbol                                               \n",
       "2014-02-04 00:00:00-05:00 AA        7052934.0  0.835418  16.083051  0.000000   \n",
       "                          AAME          800.0  0.018519   8.416267  0.000000   \n",
       "                          AAPL   -161915600.0 -0.128322  19.631806  0.000000   \n",
       "                          ABBV     -2455100.0 -0.272639  15.801685  0.000000   \n",
       "                          ABT       2715900.0 -0.077707  16.098960  0.000000   \n",
       "...                                       ...       ...        ...       ...   \n",
       "2024-04-02 00:00:00-04:00 WFC     -10970500.0  0.325413  16.388109  0.000092   \n",
       "                          WMT        331500.0  0.409703  16.575284 -0.018246   \n",
       "                          XOM       -167700.0  0.441094  16.559940  0.036726   \n",
       "                          XXII       132404.0  1.179981  11.874178 -0.040442   \n",
       "                          YTEN      2504000.0 -0.108303  14.654238 -0.317242   \n",
       "\n",
       "                                       f09       f10  ...    VIDYA_14  \\\n",
       "date                      symbol                      ...               \n",
       "2014-02-04 00:00:00-05:00 AA     -0.093025  0.061188  ...    0.391431   \n",
       "                          AAME    1.699690  0.269009  ...    0.049315   \n",
       "                          AAPL   -0.132850 -0.248186  ...    0.511884   \n",
       "                          ABBV    0.004563 -0.282135  ...    1.924995   \n",
       "                          ABT     0.081223 -0.334580  ...    3.558886   \n",
       "...                                    ...       ...  ...         ...   \n",
       "2024-04-02 00:00:00-04:00 WFC    -0.214695 -0.228185  ...   55.758652   \n",
       "                          WMT     0.155908 -0.085626  ...   59.133032   \n",
       "                          XOM     0.134338  0.125970  ...  111.881339   \n",
       "                          XXII    1.193814  1.592689  ...    2.738130   \n",
       "                          YTEN   -0.620701 -0.631749  ...    0.303951   \n",
       "\n",
       "                                   VTXP_14   VTXM_14      VWAP_D     VWMA_10  \\\n",
       "date                      symbol                                               \n",
       "2014-02-04 00:00:00-05:00 AA      1.069953  0.911178   25.838484   25.502111   \n",
       "                          AAME    0.928571  1.000000    3.723672    3.716326   \n",
       "                          AAPL    1.112036  0.816118   15.854253   16.585526   \n",
       "                          ABBV    1.249115  0.772887   31.564819   32.687138   \n",
       "                          ABT     1.370416  0.619804   29.853205   30.974900   \n",
       "...                                    ...       ...         ...         ...   \n",
       "2024-04-02 00:00:00-04:00 WFC     0.988263  0.989828   57.513332   57.339015   \n",
       "                          WMT     0.834972  1.133047   59.380000   60.484668   \n",
       "                          XOM     1.320778  0.509945  118.736666  115.058868   \n",
       "                          XXII    0.892307  1.014902    1.955367    2.016870   \n",
       "                          YTEN    0.824000  0.992000    0.263333    0.418931   \n",
       "\n",
       "                                         WCP    WILLR_14      WMA_10  \\\n",
       "date                      symbol                                       \n",
       "2014-02-04 00:00:00-05:00 AA       25.870613  -19.658258   25.678018   \n",
       "                          AAME      3.722104  -85.714313    3.713634   \n",
       "                          AAPL     15.868221  -45.973160   16.852452   \n",
       "                          ABBV     31.618948  -24.418401   33.216730   \n",
       "                          ABT      29.867645  -13.055529   31.464306   \n",
       "...                                      ...         ...         ...   \n",
       "2024-04-02 00:00:00-04:00 WFC      57.472499  -50.462974   57.388182   \n",
       "                          WMT      59.325000  -89.928097   60.274727   \n",
       "                          XOM     118.872499   -3.050522  115.816545   \n",
       "                          XXII      1.951525  -62.527463    2.008131   \n",
       "                          YTEN      0.252500 -100.000000    0.339818   \n",
       "\n",
       "                                   ZL_EMA_10     ZS_30  \n",
       "date                      symbol                        \n",
       "2014-02-04 00:00:00-05:00 AA       26.651419  0.889937  \n",
       "                          AAME      3.706105 -2.527300  \n",
       "                          AAPL     17.082871  0.269548  \n",
       "                          ABBV     34.445149  1.862278  \n",
       "                          ABT      32.544776  0.829844  \n",
       "...                                      ...       ...  \n",
       "2024-04-02 00:00:00-04:00 WFC      57.660983  0.650365  \n",
       "                          WMT      59.805278 -0.750436  \n",
       "                          XOM     117.714625  2.128368  \n",
       "                          XXII      1.913841 -1.297085  \n",
       "                          YTEN      0.328460 -1.132549  \n",
       "\n",
       "[306840 rows x 308 columns]"
      ]
     },
     "execution_count": 14,
     "metadata": {},
     "output_type": "execute_result"
    }
   ],
   "source": [
    "features"
   ]
  },
  {
   "cell_type": "code",
   "execution_count": 15,
   "metadata": {},
   "outputs": [
    {
     "data": {
      "text/html": [
       "<div>\n",
       "<style scoped>\n",
       "    .dataframe tbody tr th:only-of-type {\n",
       "        vertical-align: middle;\n",
       "    }\n",
       "\n",
       "    .dataframe tbody tr th {\n",
       "        vertical-align: top;\n",
       "    }\n",
       "\n",
       "    .dataframe thead th {\n",
       "        text-align: right;\n",
       "    }\n",
       "</style>\n",
       "<table border=\"1\" class=\"dataframe\">\n",
       "  <thead>\n",
       "    <tr style=\"text-align: right;\">\n",
       "      <th></th>\n",
       "      <th></th>\n",
       "      <th>open</th>\n",
       "      <th>high</th>\n",
       "      <th>low</th>\n",
       "      <th>close</th>\n",
       "      <th>volume</th>\n",
       "    </tr>\n",
       "    <tr>\n",
       "      <th>date</th>\n",
       "      <th>symbol</th>\n",
       "      <th></th>\n",
       "      <th></th>\n",
       "      <th></th>\n",
       "      <th></th>\n",
       "      <th></th>\n",
       "    </tr>\n",
       "  </thead>\n",
       "  <tbody>\n",
       "    <tr>\n",
       "      <th rowspan=\"5\" valign=\"top\">2014-02-04 00:00:00-05:00</th>\n",
       "      <th>AA</th>\n",
       "      <td>25.536102</td>\n",
       "      <td>26.103067</td>\n",
       "      <td>25.445389</td>\n",
       "      <td>25.966997</td>\n",
       "      <td>8280108</td>\n",
       "    </tr>\n",
       "    <tr>\n",
       "      <th>AAME</th>\n",
       "      <td>3.717398</td>\n",
       "      <td>3.745632</td>\n",
       "      <td>3.707987</td>\n",
       "      <td>3.717398</td>\n",
       "      <td>5400</td>\n",
       "    </tr>\n",
       "    <tr>\n",
       "      <th>AAPL</th>\n",
       "      <td>15.818188</td>\n",
       "      <td>15.931075</td>\n",
       "      <td>15.721562</td>\n",
       "      <td>15.910123</td>\n",
       "      <td>376681200</td>\n",
       "    </tr>\n",
       "    <tr>\n",
       "      <th>ABBV</th>\n",
       "      <td>31.270976</td>\n",
       "      <td>31.794590</td>\n",
       "      <td>31.118532</td>\n",
       "      <td>31.781334</td>\n",
       "      <td>9606100</td>\n",
       "    </tr>\n",
       "    <tr>\n",
       "      <th>ABT</th>\n",
       "      <td>29.622171</td>\n",
       "      <td>30.067739</td>\n",
       "      <td>29.580912</td>\n",
       "      <td>29.910965</td>\n",
       "      <td>8237400</td>\n",
       "    </tr>\n",
       "    <tr>\n",
       "      <th>...</th>\n",
       "      <th>...</th>\n",
       "      <td>...</td>\n",
       "      <td>...</td>\n",
       "      <td>...</td>\n",
       "      <td>...</td>\n",
       "      <td>...</td>\n",
       "    </tr>\n",
       "    <tr>\n",
       "      <th rowspan=\"5\" valign=\"top\">2024-04-02 00:00:00-04:00</th>\n",
       "      <th>WFC</th>\n",
       "      <td>57.360001</td>\n",
       "      <td>58.000000</td>\n",
       "      <td>57.189999</td>\n",
       "      <td>57.349998</td>\n",
       "      <td>14631900</td>\n",
       "    </tr>\n",
       "    <tr>\n",
       "      <th>WMT</th>\n",
       "      <td>59.900002</td>\n",
       "      <td>60.099998</td>\n",
       "      <td>58.880001</td>\n",
       "      <td>59.160000</td>\n",
       "      <td>19506900</td>\n",
       "    </tr>\n",
       "    <tr>\n",
       "      <th>XOM</th>\n",
       "      <td>117.919998</td>\n",
       "      <td>119.599998</td>\n",
       "      <td>117.330002</td>\n",
       "      <td>119.279999</td>\n",
       "      <td>19911600</td>\n",
       "    </tr>\n",
       "    <tr>\n",
       "      <th>XXII</th>\n",
       "      <td>2.030000</td>\n",
       "      <td>2.216100</td>\n",
       "      <td>1.710000</td>\n",
       "      <td>1.940000</td>\n",
       "      <td>198012</td>\n",
       "    </tr>\n",
       "    <tr>\n",
       "      <th>YTEN</th>\n",
       "      <td>0.340000</td>\n",
       "      <td>0.350000</td>\n",
       "      <td>0.220000</td>\n",
       "      <td>0.220000</td>\n",
       "      <td>2614100</td>\n",
       "    </tr>\n",
       "  </tbody>\n",
       "</table>\n",
       "<p>306840 rows × 5 columns</p>\n",
       "</div>"
      ],
      "text/plain": [
       "                                        open        high         low  \\\n",
       "date                      symbol                                       \n",
       "2014-02-04 00:00:00-05:00 AA       25.536102   26.103067   25.445389   \n",
       "                          AAME      3.717398    3.745632    3.707987   \n",
       "                          AAPL     15.818188   15.931075   15.721562   \n",
       "                          ABBV     31.270976   31.794590   31.118532   \n",
       "                          ABT      29.622171   30.067739   29.580912   \n",
       "...                                      ...         ...         ...   \n",
       "2024-04-02 00:00:00-04:00 WFC      57.360001   58.000000   57.189999   \n",
       "                          WMT      59.900002   60.099998   58.880001   \n",
       "                          XOM     117.919998  119.599998  117.330002   \n",
       "                          XXII      2.030000    2.216100    1.710000   \n",
       "                          YTEN      0.340000    0.350000    0.220000   \n",
       "\n",
       "                                       close     volume  \n",
       "date                      symbol                         \n",
       "2014-02-04 00:00:00-05:00 AA       25.966997    8280108  \n",
       "                          AAME      3.717398       5400  \n",
       "                          AAPL     15.910123  376681200  \n",
       "                          ABBV     31.781334    9606100  \n",
       "                          ABT      29.910965    8237400  \n",
       "...                                      ...        ...  \n",
       "2024-04-02 00:00:00-04:00 WFC      57.349998   14631900  \n",
       "                          WMT      59.160000   19506900  \n",
       "                          XOM     119.279999   19911600  \n",
       "                          XXII      1.940000     198012  \n",
       "                          YTEN      0.220000    2614100  \n",
       "\n",
       "[306840 rows x 5 columns]"
      ]
     },
     "execution_count": 15,
     "metadata": {},
     "output_type": "execute_result"
    }
   ],
   "source": [
    "prices"
   ]
  },
  {
   "cell_type": "code",
   "execution_count": 16,
   "metadata": {},
   "outputs": [],
   "source": [
    "features.sort_index().to_csv('RoboStockFeatures.csv')\n",
    "prices.sort_index().to_csv('RoboStockPrices.csv')"
   ]
  }
 ],
 "metadata": {
  "kernelspec": {
   "display_name": "MachineLearning",
   "language": "python",
   "name": "python3"
  },
  "language_info": {
   "codemirror_mode": {
    "name": "ipython",
    "version": 3
   },
   "file_extension": ".py",
   "mimetype": "text/x-python",
   "name": "python",
   "nbconvert_exporter": "python",
   "pygments_lexer": "ipython3",
   "version": "3.11.7"
  }
 },
 "nbformat": 4,
 "nbformat_minor": 2
}
